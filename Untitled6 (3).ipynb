{
  "nbformat": 4,
  "nbformat_minor": 0,
  "metadata": {
    "accelerator": "TPU",
    "colab": {
      "name": "Untitled6.ipynb",
      "provenance": [],
      "collapsed_sections": []
    },
    "kernelspec": {
      "display_name": "Python 3",
      "name": "python3"
    },
    "language_info": {
      "name": "python"
    }
  },
  "cells": [
    {
      "cell_type": "code",
      "metadata": {
        "colab": {
          "base_uri": "https://localhost:8080/"
        },
        "id": "MsVuR27NVxDT",
        "outputId": "055c39e2-d684-4001-b64d-67bcf0cab46a"
      },
      "source": [
        "!pip install PyDrive"
      ],
      "execution_count": null,
      "outputs": [
        {
          "output_type": "stream",
          "text": [
            "Requirement already satisfied: PyDrive in /usr/local/lib/python3.7/dist-packages (1.3.1)\n",
            "Requirement already satisfied: PyYAML>=3.0 in /usr/local/lib/python3.7/dist-packages (from PyDrive) (3.13)\n",
            "Requirement already satisfied: google-api-python-client>=1.2 in /usr/local/lib/python3.7/dist-packages (from PyDrive) (1.12.8)\n",
            "Requirement already satisfied: oauth2client>=4.0.0 in /usr/local/lib/python3.7/dist-packages (from PyDrive) (4.1.3)\n",
            "Requirement already satisfied: google-auth-httplib2>=0.0.3 in /usr/local/lib/python3.7/dist-packages (from google-api-python-client>=1.2->PyDrive) (0.0.4)\n",
            "Requirement already satisfied: google-api-core<2dev,>=1.21.0 in /usr/local/lib/python3.7/dist-packages (from google-api-python-client>=1.2->PyDrive) (1.26.3)\n",
            "Requirement already satisfied: uritemplate<4dev,>=3.0.0 in /usr/local/lib/python3.7/dist-packages (from google-api-python-client>=1.2->PyDrive) (3.0.1)\n",
            "Requirement already satisfied: google-auth>=1.16.0 in /usr/local/lib/python3.7/dist-packages (from google-api-python-client>=1.2->PyDrive) (1.32.1)\n",
            "Requirement already satisfied: six<2dev,>=1.13.0 in /usr/local/lib/python3.7/dist-packages (from google-api-python-client>=1.2->PyDrive) (1.15.0)\n",
            "Requirement already satisfied: httplib2<1dev,>=0.15.0 in /usr/local/lib/python3.7/dist-packages (from google-api-python-client>=1.2->PyDrive) (0.17.4)\n",
            "Requirement already satisfied: pyasn1-modules>=0.0.5 in /usr/local/lib/python3.7/dist-packages (from oauth2client>=4.0.0->PyDrive) (0.2.8)\n",
            "Requirement already satisfied: pyasn1>=0.1.7 in /usr/local/lib/python3.7/dist-packages (from oauth2client>=4.0.0->PyDrive) (0.4.8)\n",
            "Requirement already satisfied: rsa>=3.1.4 in /usr/local/lib/python3.7/dist-packages (from oauth2client>=4.0.0->PyDrive) (4.7.2)\n",
            "Requirement already satisfied: protobuf>=3.12.0 in /usr/local/lib/python3.7/dist-packages (from google-api-core<2dev,>=1.21.0->google-api-python-client>=1.2->PyDrive) (3.17.3)\n",
            "Requirement already satisfied: pytz in /usr/local/lib/python3.7/dist-packages (from google-api-core<2dev,>=1.21.0->google-api-python-client>=1.2->PyDrive) (2018.9)\n",
            "Requirement already satisfied: setuptools>=40.3.0 in /usr/local/lib/python3.7/dist-packages (from google-api-core<2dev,>=1.21.0->google-api-python-client>=1.2->PyDrive) (57.0.0)\n",
            "Requirement already satisfied: packaging>=14.3 in /usr/local/lib/python3.7/dist-packages (from google-api-core<2dev,>=1.21.0->google-api-python-client>=1.2->PyDrive) (20.9)\n",
            "Requirement already satisfied: requests<3.0.0dev,>=2.18.0 in /usr/local/lib/python3.7/dist-packages (from google-api-core<2dev,>=1.21.0->google-api-python-client>=1.2->PyDrive) (2.23.0)\n",
            "Requirement already satisfied: googleapis-common-protos<2.0dev,>=1.6.0 in /usr/local/lib/python3.7/dist-packages (from google-api-core<2dev,>=1.21.0->google-api-python-client>=1.2->PyDrive) (1.53.0)\n",
            "Requirement already satisfied: cachetools<5.0,>=2.0.0 in /usr/local/lib/python3.7/dist-packages (from google-auth>=1.16.0->google-api-python-client>=1.2->PyDrive) (4.2.2)\n",
            "Requirement already satisfied: pyparsing>=2.0.2 in /usr/local/lib/python3.7/dist-packages (from packaging>=14.3->google-api-core<2dev,>=1.21.0->google-api-python-client>=1.2->PyDrive) (2.4.7)\n",
            "Requirement already satisfied: urllib3!=1.25.0,!=1.25.1,<1.26,>=1.21.1 in /usr/local/lib/python3.7/dist-packages (from requests<3.0.0dev,>=2.18.0->google-api-core<2dev,>=1.21.0->google-api-python-client>=1.2->PyDrive) (1.24.3)\n",
            "Requirement already satisfied: chardet<4,>=3.0.2 in /usr/local/lib/python3.7/dist-packages (from requests<3.0.0dev,>=2.18.0->google-api-core<2dev,>=1.21.0->google-api-python-client>=1.2->PyDrive) (3.0.4)\n",
            "Requirement already satisfied: idna<3,>=2.5 in /usr/local/lib/python3.7/dist-packages (from requests<3.0.0dev,>=2.18.0->google-api-core<2dev,>=1.21.0->google-api-python-client>=1.2->PyDrive) (2.10)\n",
            "Requirement already satisfied: certifi>=2017.4.17 in /usr/local/lib/python3.7/dist-packages (from requests<3.0.0dev,>=2.18.0->google-api-core<2dev,>=1.21.0->google-api-python-client>=1.2->PyDrive) (2021.5.30)\n"
          ],
          "name": "stdout"
        }
      ]
    },
    {
      "cell_type": "code",
      "metadata": {
        "id": "Ts1zGiaAWDdp"
      },
      "source": [
        "import os\n",
        "from pydrive.auth import GoogleAuth\n",
        "from pydrive.drive import GoogleDrive\n",
        "from google.colab import auth\n",
        "from oauth2client.client import GoogleCredentials"
      ],
      "execution_count": null,
      "outputs": []
    },
    {
      "cell_type": "code",
      "metadata": {
        "id": "W6UcPFFQWH1D"
      },
      "source": [
        "auth.authenticate_user()\n",
        "gauth = GoogleAuth()\n",
        "gauth.credentials = GoogleCredentials.get_application_default()\n",
        "drive = GoogleDrive(gauth)"
      ],
      "execution_count": null,
      "outputs": []
    },
    {
      "cell_type": "code",
      "metadata": {
        "id": "GO9WA_pQWZ-H"
      },
      "source": [
        "import zipfile\n",
        "from google.colab import drive\n",
        "\n",
        "zip_ref = zipfile.ZipFile(\"/content/drive/MyDrive/data.zip\", 'r') #import zip file\n",
        "zip_ref.extractall(\"/tmp\") #extract zip file\n",
        "zip_ref.close()"
      ],
      "execution_count": 2,
      "outputs": []
    },
    {
      "cell_type": "code",
      "metadata": {
        "colab": {
          "base_uri": "https://localhost:8080/",
          "height": 0
        },
        "id": "g3EwH7CMa3ml",
        "outputId": "cb795266-dba1-412d-d0e8-249889c3d2ce"
      },
      "source": [
        "!ls /tmp/data"
      ],
      "execution_count": 3,
      "outputs": [
        {
          "output_type": "stream",
          "text": [
            "drivers.csv  pings.csv\ttest.csv\n"
          ],
          "name": "stdout"
        }
      ]
    },
    {
      "cell_type": "code",
      "metadata": {
        "colab": {
          "base_uri": "https://localhost:8080/",
          "height": 0
        },
        "id": "USjinQdPdBzp",
        "outputId": "0b159fcc-048c-4b90-c2c2-64d1b59b675d"
      },
      "source": [
        "import numpy as np\n",
        "import pandas as pd\n",
        "import matplotlib.pyplot as plt\n",
        "import seaborn as sns\n",
        "\n",
        "#load all 3 datasets\n",
        "driver_df =  pd.read_csv(\"/tmp/data/drivers.csv\")\n",
        "ping_df = pd.read_csv(\"/tmp/data/pings.csv\")\n",
        "test_df = pd.read_csv(\"/tmp/data/test.csv\")\n",
        "\n",
        "print(\"shape of the driver_df:\",driver_df.shape)\n",
        "print(\"shape of the ping_df:\",ping_df.shape)\n",
        "print(\"shape of the test_df:\",test_df.shape)\n",
        "\n",
        "print(\"********* Head of the driver_df**************\")\n",
        "print(driver_df.head())\n",
        "print(\"********* Head of the ping_df**************\")\n",
        "print(ping_df.head())\n",
        "print(\"********* Head of the test_df**************\")\n",
        "print(test_df.head())\n"
      ],
      "execution_count": 4,
      "outputs": [
        {
          "output_type": "stream",
          "text": [
            "shape of the driver_df: (2500, 4)\n",
            "shape of the ping_df: (50528701, 2)\n",
            "shape of the test_df: (17500, 3)\n",
            "********* Head of the driver_df**************\n",
            "   driver_id gender  age  number_of_kids\n",
            "0     979863   MALE   26               2\n",
            "1     780123   MALE   60               2\n",
            "2     614848   MALE   45               4\n",
            "3     775046   MALE   62               3\n",
            "4     991601   MALE   23               0\n",
            "********* Head of the ping_df**************\n",
            "   driver_id  ping_timestamp\n",
            "0     899313      1496278800\n",
            "1     373017      1496278800\n",
            "2     798984      1496278800\n",
            "3     245966      1496278800\n",
            "4     689783      1496278800\n",
            "********* Head of the test_df**************\n",
            "   driver_id       date  online_hours\n",
            "0     979863  2017-6-28             7\n",
            "1     979863  2017-6-27             9\n",
            "2     979863  2017-6-26             9\n",
            "3     979863  2017-6-25            10\n",
            "4     979863  2017-6-24             9\n"
          ],
          "name": "stdout"
        }
      ]
    },
    {
      "cell_type": "code",
      "metadata": {
        "colab": {
          "base_uri": "https://localhost:8080/",
          "height": 0
        },
        "id": "lMKCJm2M9t9h",
        "outputId": "549b124e-6fda-4ad4-aefe-f4745518fb22"
      },
      "source": [
        "#check for the null values in driver dataset\n",
        "driver_df.isnull().sum()"
      ],
      "execution_count": 5,
      "outputs": [
        {
          "output_type": "execute_result",
          "data": {
            "text/plain": [
              "driver_id         0\n",
              "gender            0\n",
              "age               0\n",
              "number_of_kids    0\n",
              "dtype: int64"
            ]
          },
          "metadata": {
            "tags": []
          },
          "execution_count": 5
        }
      ]
    },
    {
      "cell_type": "code",
      "metadata": {
        "colab": {
          "base_uri": "https://localhost:8080/",
          "height": 0
        },
        "id": "m7gTNFJ497wS",
        "outputId": "d6ea48c3-c09f-4cff-c8db-111f644772ce"
      },
      "source": [
        "#check for the null values in ping dataset\n",
        "ping_df.isnull().sum()"
      ],
      "execution_count": 6,
      "outputs": [
        {
          "output_type": "execute_result",
          "data": {
            "text/plain": [
              "driver_id         0\n",
              "ping_timestamp    0\n",
              "dtype: int64"
            ]
          },
          "metadata": {
            "tags": []
          },
          "execution_count": 6
        }
      ]
    },
    {
      "cell_type": "code",
      "metadata": {
        "colab": {
          "base_uri": "https://localhost:8080/",
          "height": 297
        },
        "id": "m3j5OU7k-DvV",
        "outputId": "a6d8ef38-dd99-47fc-bc42-df6b988bffda"
      },
      "source": [
        "driver_df.describe()"
      ],
      "execution_count": 7,
      "outputs": [
        {
          "output_type": "execute_result",
          "data": {
            "text/html": [
              "<div>\n",
              "<style scoped>\n",
              "    .dataframe tbody tr th:only-of-type {\n",
              "        vertical-align: middle;\n",
              "    }\n",
              "\n",
              "    .dataframe tbody tr th {\n",
              "        vertical-align: top;\n",
              "    }\n",
              "\n",
              "    .dataframe thead th {\n",
              "        text-align: right;\n",
              "    }\n",
              "</style>\n",
              "<table border=\"1\" class=\"dataframe\">\n",
              "  <thead>\n",
              "    <tr style=\"text-align: right;\">\n",
              "      <th></th>\n",
              "      <th>driver_id</th>\n",
              "      <th>age</th>\n",
              "      <th>number_of_kids</th>\n",
              "    </tr>\n",
              "  </thead>\n",
              "  <tbody>\n",
              "    <tr>\n",
              "      <th>count</th>\n",
              "      <td>2500.000000</td>\n",
              "      <td>2500.000000</td>\n",
              "      <td>2500.000000</td>\n",
              "    </tr>\n",
              "    <tr>\n",
              "      <th>mean</th>\n",
              "      <td>562397.047200</td>\n",
              "      <td>35.922400</td>\n",
              "      <td>1.395200</td>\n",
              "    </tr>\n",
              "    <tr>\n",
              "      <th>std</th>\n",
              "      <td>256410.208166</td>\n",
              "      <td>14.171207</td>\n",
              "      <td>1.505697</td>\n",
              "    </tr>\n",
              "    <tr>\n",
              "      <th>min</th>\n",
              "      <td>111556.000000</td>\n",
              "      <td>18.000000</td>\n",
              "      <td>0.000000</td>\n",
              "    </tr>\n",
              "    <tr>\n",
              "      <th>25%</th>\n",
              "      <td>343199.000000</td>\n",
              "      <td>25.000000</td>\n",
              "      <td>0.000000</td>\n",
              "    </tr>\n",
              "    <tr>\n",
              "      <th>50%</th>\n",
              "      <td>563854.500000</td>\n",
              "      <td>31.000000</td>\n",
              "      <td>1.000000</td>\n",
              "    </tr>\n",
              "    <tr>\n",
              "      <th>75%</th>\n",
              "      <td>787978.750000</td>\n",
              "      <td>45.000000</td>\n",
              "      <td>3.000000</td>\n",
              "    </tr>\n",
              "    <tr>\n",
              "      <th>max</th>\n",
              "      <td>998740.000000</td>\n",
              "      <td>75.000000</td>\n",
              "      <td>4.000000</td>\n",
              "    </tr>\n",
              "  </tbody>\n",
              "</table>\n",
              "</div>"
            ],
            "text/plain": [
              "           driver_id          age  number_of_kids\n",
              "count    2500.000000  2500.000000     2500.000000\n",
              "mean   562397.047200    35.922400        1.395200\n",
              "std    256410.208166    14.171207        1.505697\n",
              "min    111556.000000    18.000000        0.000000\n",
              "25%    343199.000000    25.000000        0.000000\n",
              "50%    563854.500000    31.000000        1.000000\n",
              "75%    787978.750000    45.000000        3.000000\n",
              "max    998740.000000    75.000000        4.000000"
            ]
          },
          "metadata": {
            "tags": []
          },
          "execution_count": 7
        }
      ]
    },
    {
      "cell_type": "code",
      "metadata": {
        "colab": {
          "base_uri": "https://localhost:8080/",
          "height": 204
        },
        "id": "XQ3uppGOdbAF",
        "outputId": "d6b1b63e-0699-47fa-bfb2-d1a42a7ec2b4"
      },
      "source": [
        "ping_df = ping_df.sort_values(by=[\"driver_id\",\"ping_timestamp\"]).reset_index(drop = True)\n",
        "ping_df.head()"
      ],
      "execution_count": 8,
      "outputs": [
        {
          "output_type": "execute_result",
          "data": {
            "text/html": [
              "<div>\n",
              "<style scoped>\n",
              "    .dataframe tbody tr th:only-of-type {\n",
              "        vertical-align: middle;\n",
              "    }\n",
              "\n",
              "    .dataframe tbody tr th {\n",
              "        vertical-align: top;\n",
              "    }\n",
              "\n",
              "    .dataframe thead th {\n",
              "        text-align: right;\n",
              "    }\n",
              "</style>\n",
              "<table border=\"1\" class=\"dataframe\">\n",
              "  <thead>\n",
              "    <tr style=\"text-align: right;\">\n",
              "      <th></th>\n",
              "      <th>driver_id</th>\n",
              "      <th>ping_timestamp</th>\n",
              "    </tr>\n",
              "  </thead>\n",
              "  <tbody>\n",
              "    <tr>\n",
              "      <th>0</th>\n",
              "      <td>111556</td>\n",
              "      <td>1496279340</td>\n",
              "    </tr>\n",
              "    <tr>\n",
              "      <th>1</th>\n",
              "      <td>111556</td>\n",
              "      <td>1496279355</td>\n",
              "    </tr>\n",
              "    <tr>\n",
              "      <th>2</th>\n",
              "      <td>111556</td>\n",
              "      <td>1496279370</td>\n",
              "    </tr>\n",
              "    <tr>\n",
              "      <th>3</th>\n",
              "      <td>111556</td>\n",
              "      <td>1496279400</td>\n",
              "    </tr>\n",
              "    <tr>\n",
              "      <th>4</th>\n",
              "      <td>111556</td>\n",
              "      <td>1496279430</td>\n",
              "    </tr>\n",
              "  </tbody>\n",
              "</table>\n",
              "</div>"
            ],
            "text/plain": [
              "   driver_id  ping_timestamp\n",
              "0     111556      1496279340\n",
              "1     111556      1496279355\n",
              "2     111556      1496279370\n",
              "3     111556      1496279400\n",
              "4     111556      1496279430"
            ]
          },
          "metadata": {
            "tags": []
          },
          "execution_count": 8
        }
      ]
    },
    {
      "cell_type": "code",
      "metadata": {
        "colab": {
          "base_uri": "https://localhost:8080/",
          "height": 204
        },
        "id": "24Z5jvW3d_qF",
        "outputId": "09107fcc-171b-4c23-cbe3-4fd8637153c3"
      },
      "source": [
        "from datetime import datetime\n",
        "#create a copy of ping_df\n",
        "temp_ping_df = ping_df.copy()\n",
        "\n",
        "#Preprocessing_data\n",
        "temp_ping_df.drop_duplicates(inplace=True) #remove duplicate data\n",
        "\n",
        "#convert unixtimestamp into datetime\n",
        "temp_ping_df[\"datetime\"] = temp_ping_df[\"ping_timestamp\"].apply(lambda x: datetime.fromtimestamp(x))\n",
        "\n",
        "temp_ping_df.head()\n"
      ],
      "execution_count": 9,
      "outputs": [
        {
          "output_type": "execute_result",
          "data": {
            "text/html": [
              "<div>\n",
              "<style scoped>\n",
              "    .dataframe tbody tr th:only-of-type {\n",
              "        vertical-align: middle;\n",
              "    }\n",
              "\n",
              "    .dataframe tbody tr th {\n",
              "        vertical-align: top;\n",
              "    }\n",
              "\n",
              "    .dataframe thead th {\n",
              "        text-align: right;\n",
              "    }\n",
              "</style>\n",
              "<table border=\"1\" class=\"dataframe\">\n",
              "  <thead>\n",
              "    <tr style=\"text-align: right;\">\n",
              "      <th></th>\n",
              "      <th>driver_id</th>\n",
              "      <th>ping_timestamp</th>\n",
              "      <th>datetime</th>\n",
              "    </tr>\n",
              "  </thead>\n",
              "  <tbody>\n",
              "    <tr>\n",
              "      <th>0</th>\n",
              "      <td>111556</td>\n",
              "      <td>1496279340</td>\n",
              "      <td>2017-06-01 01:09:00</td>\n",
              "    </tr>\n",
              "    <tr>\n",
              "      <th>1</th>\n",
              "      <td>111556</td>\n",
              "      <td>1496279355</td>\n",
              "      <td>2017-06-01 01:09:15</td>\n",
              "    </tr>\n",
              "    <tr>\n",
              "      <th>2</th>\n",
              "      <td>111556</td>\n",
              "      <td>1496279370</td>\n",
              "      <td>2017-06-01 01:09:30</td>\n",
              "    </tr>\n",
              "    <tr>\n",
              "      <th>3</th>\n",
              "      <td>111556</td>\n",
              "      <td>1496279400</td>\n",
              "      <td>2017-06-01 01:10:00</td>\n",
              "    </tr>\n",
              "    <tr>\n",
              "      <th>4</th>\n",
              "      <td>111556</td>\n",
              "      <td>1496279430</td>\n",
              "      <td>2017-06-01 01:10:30</td>\n",
              "    </tr>\n",
              "  </tbody>\n",
              "</table>\n",
              "</div>"
            ],
            "text/plain": [
              "   driver_id  ping_timestamp            datetime\n",
              "0     111556      1496279340 2017-06-01 01:09:00\n",
              "1     111556      1496279355 2017-06-01 01:09:15\n",
              "2     111556      1496279370 2017-06-01 01:09:30\n",
              "3     111556      1496279400 2017-06-01 01:10:00\n",
              "4     111556      1496279430 2017-06-01 01:10:30"
            ]
          },
          "metadata": {
            "tags": []
          },
          "execution_count": 9
        }
      ]
    },
    {
      "cell_type": "code",
      "metadata": {
        "colab": {
          "base_uri": "https://localhost:8080/",
          "height": 204
        },
        "id": "vLS1gwOCeYIP",
        "outputId": "e51dcf5d-2194-4a2b-c4b2-99d82e726cb5"
      },
      "source": [
        "temp_ping_df[\"date\"] = temp_ping_df[\"datetime\"].dt.date\n",
        "temp_ping_df.head()"
      ],
      "execution_count": 10,
      "outputs": [
        {
          "output_type": "execute_result",
          "data": {
            "text/html": [
              "<div>\n",
              "<style scoped>\n",
              "    .dataframe tbody tr th:only-of-type {\n",
              "        vertical-align: middle;\n",
              "    }\n",
              "\n",
              "    .dataframe tbody tr th {\n",
              "        vertical-align: top;\n",
              "    }\n",
              "\n",
              "    .dataframe thead th {\n",
              "        text-align: right;\n",
              "    }\n",
              "</style>\n",
              "<table border=\"1\" class=\"dataframe\">\n",
              "  <thead>\n",
              "    <tr style=\"text-align: right;\">\n",
              "      <th></th>\n",
              "      <th>driver_id</th>\n",
              "      <th>ping_timestamp</th>\n",
              "      <th>datetime</th>\n",
              "      <th>date</th>\n",
              "    </tr>\n",
              "  </thead>\n",
              "  <tbody>\n",
              "    <tr>\n",
              "      <th>0</th>\n",
              "      <td>111556</td>\n",
              "      <td>1496279340</td>\n",
              "      <td>2017-06-01 01:09:00</td>\n",
              "      <td>2017-06-01</td>\n",
              "    </tr>\n",
              "    <tr>\n",
              "      <th>1</th>\n",
              "      <td>111556</td>\n",
              "      <td>1496279355</td>\n",
              "      <td>2017-06-01 01:09:15</td>\n",
              "      <td>2017-06-01</td>\n",
              "    </tr>\n",
              "    <tr>\n",
              "      <th>2</th>\n",
              "      <td>111556</td>\n",
              "      <td>1496279370</td>\n",
              "      <td>2017-06-01 01:09:30</td>\n",
              "      <td>2017-06-01</td>\n",
              "    </tr>\n",
              "    <tr>\n",
              "      <th>3</th>\n",
              "      <td>111556</td>\n",
              "      <td>1496279400</td>\n",
              "      <td>2017-06-01 01:10:00</td>\n",
              "      <td>2017-06-01</td>\n",
              "    </tr>\n",
              "    <tr>\n",
              "      <th>4</th>\n",
              "      <td>111556</td>\n",
              "      <td>1496279430</td>\n",
              "      <td>2017-06-01 01:10:30</td>\n",
              "      <td>2017-06-01</td>\n",
              "    </tr>\n",
              "  </tbody>\n",
              "</table>\n",
              "</div>"
            ],
            "text/plain": [
              "   driver_id  ping_timestamp            datetime        date\n",
              "0     111556      1496279340 2017-06-01 01:09:00  2017-06-01\n",
              "1     111556      1496279355 2017-06-01 01:09:15  2017-06-01\n",
              "2     111556      1496279370 2017-06-01 01:09:30  2017-06-01\n",
              "3     111556      1496279400 2017-06-01 01:10:00  2017-06-01\n",
              "4     111556      1496279430 2017-06-01 01:10:30  2017-06-01"
            ]
          },
          "metadata": {
            "tags": []
          },
          "execution_count": 10
        }
      ]
    },
    {
      "cell_type": "code",
      "metadata": {
        "colab": {
          "base_uri": "https://localhost:8080/",
          "height": 204
        },
        "id": "jmHMkXbyfDiG",
        "outputId": "3612b76f-5c5b-430f-c410-e42938e256f3"
      },
      "source": [
        "'''we need to convert the timestamp into online hours so take one step time difference for each date and each driver\n",
        "and assumed that if the difference is less than 2 minutes then driver online hours are same but if the difference is more than 2 minutes then capped\n",
        "it to 2 minutes'''\n",
        "temp_ping_df['online_hours'] = (temp_ping_df.groupby(by=['driver_id','date'])['ping_timestamp'].diff())/(60*60)\n",
        "temp_ping_df.head()"
      ],
      "execution_count": 11,
      "outputs": [
        {
          "output_type": "execute_result",
          "data": {
            "text/html": [
              "<div>\n",
              "<style scoped>\n",
              "    .dataframe tbody tr th:only-of-type {\n",
              "        vertical-align: middle;\n",
              "    }\n",
              "\n",
              "    .dataframe tbody tr th {\n",
              "        vertical-align: top;\n",
              "    }\n",
              "\n",
              "    .dataframe thead th {\n",
              "        text-align: right;\n",
              "    }\n",
              "</style>\n",
              "<table border=\"1\" class=\"dataframe\">\n",
              "  <thead>\n",
              "    <tr style=\"text-align: right;\">\n",
              "      <th></th>\n",
              "      <th>driver_id</th>\n",
              "      <th>ping_timestamp</th>\n",
              "      <th>datetime</th>\n",
              "      <th>date</th>\n",
              "      <th>online_hours</th>\n",
              "    </tr>\n",
              "  </thead>\n",
              "  <tbody>\n",
              "    <tr>\n",
              "      <th>0</th>\n",
              "      <td>111556</td>\n",
              "      <td>1496279340</td>\n",
              "      <td>2017-06-01 01:09:00</td>\n",
              "      <td>2017-06-01</td>\n",
              "      <td>NaN</td>\n",
              "    </tr>\n",
              "    <tr>\n",
              "      <th>1</th>\n",
              "      <td>111556</td>\n",
              "      <td>1496279355</td>\n",
              "      <td>2017-06-01 01:09:15</td>\n",
              "      <td>2017-06-01</td>\n",
              "      <td>0.004167</td>\n",
              "    </tr>\n",
              "    <tr>\n",
              "      <th>2</th>\n",
              "      <td>111556</td>\n",
              "      <td>1496279370</td>\n",
              "      <td>2017-06-01 01:09:30</td>\n",
              "      <td>2017-06-01</td>\n",
              "      <td>0.004167</td>\n",
              "    </tr>\n",
              "    <tr>\n",
              "      <th>3</th>\n",
              "      <td>111556</td>\n",
              "      <td>1496279400</td>\n",
              "      <td>2017-06-01 01:10:00</td>\n",
              "      <td>2017-06-01</td>\n",
              "      <td>0.008333</td>\n",
              "    </tr>\n",
              "    <tr>\n",
              "      <th>4</th>\n",
              "      <td>111556</td>\n",
              "      <td>1496279430</td>\n",
              "      <td>2017-06-01 01:10:30</td>\n",
              "      <td>2017-06-01</td>\n",
              "      <td>0.008333</td>\n",
              "    </tr>\n",
              "  </tbody>\n",
              "</table>\n",
              "</div>"
            ],
            "text/plain": [
              "   driver_id  ping_timestamp            datetime        date  online_hours\n",
              "0     111556      1496279340 2017-06-01 01:09:00  2017-06-01           NaN\n",
              "1     111556      1496279355 2017-06-01 01:09:15  2017-06-01      0.004167\n",
              "2     111556      1496279370 2017-06-01 01:09:30  2017-06-01      0.004167\n",
              "3     111556      1496279400 2017-06-01 01:10:00  2017-06-01      0.008333\n",
              "4     111556      1496279430 2017-06-01 01:10:30  2017-06-01      0.008333"
            ]
          },
          "metadata": {
            "tags": []
          },
          "execution_count": 11
        }
      ]
    },
    {
      "cell_type": "code",
      "metadata": {
        "colab": {
          "base_uri": "https://localhost:8080/",
          "height": 419
        },
        "id": "EIUCyF16fxGu",
        "outputId": "354fe1af-dfc5-48da-b7ff-2149b29a4db8"
      },
      "source": [
        "#here we don't have any limit\n",
        "temp_ping_df['online_hours']  =  temp_ping_df['online_hours'].apply(lambda x: x if x< (2/60) else (2/60))\n",
        "temp_ping_df"
      ],
      "execution_count": 12,
      "outputs": [
        {
          "output_type": "execute_result",
          "data": {
            "text/html": [
              "<div>\n",
              "<style scoped>\n",
              "    .dataframe tbody tr th:only-of-type {\n",
              "        vertical-align: middle;\n",
              "    }\n",
              "\n",
              "    .dataframe tbody tr th {\n",
              "        vertical-align: top;\n",
              "    }\n",
              "\n",
              "    .dataframe thead th {\n",
              "        text-align: right;\n",
              "    }\n",
              "</style>\n",
              "<table border=\"1\" class=\"dataframe\">\n",
              "  <thead>\n",
              "    <tr style=\"text-align: right;\">\n",
              "      <th></th>\n",
              "      <th>driver_id</th>\n",
              "      <th>ping_timestamp</th>\n",
              "      <th>datetime</th>\n",
              "      <th>date</th>\n",
              "      <th>online_hours</th>\n",
              "    </tr>\n",
              "  </thead>\n",
              "  <tbody>\n",
              "    <tr>\n",
              "      <th>0</th>\n",
              "      <td>111556</td>\n",
              "      <td>1496279340</td>\n",
              "      <td>2017-06-01 01:09:00</td>\n",
              "      <td>2017-06-01</td>\n",
              "      <td>0.033333</td>\n",
              "    </tr>\n",
              "    <tr>\n",
              "      <th>1</th>\n",
              "      <td>111556</td>\n",
              "      <td>1496279355</td>\n",
              "      <td>2017-06-01 01:09:15</td>\n",
              "      <td>2017-06-01</td>\n",
              "      <td>0.004167</td>\n",
              "    </tr>\n",
              "    <tr>\n",
              "      <th>2</th>\n",
              "      <td>111556</td>\n",
              "      <td>1496279370</td>\n",
              "      <td>2017-06-01 01:09:30</td>\n",
              "      <td>2017-06-01</td>\n",
              "      <td>0.004167</td>\n",
              "    </tr>\n",
              "    <tr>\n",
              "      <th>3</th>\n",
              "      <td>111556</td>\n",
              "      <td>1496279400</td>\n",
              "      <td>2017-06-01 01:10:00</td>\n",
              "      <td>2017-06-01</td>\n",
              "      <td>0.008333</td>\n",
              "    </tr>\n",
              "    <tr>\n",
              "      <th>4</th>\n",
              "      <td>111556</td>\n",
              "      <td>1496279430</td>\n",
              "      <td>2017-06-01 01:10:30</td>\n",
              "      <td>2017-06-01</td>\n",
              "      <td>0.008333</td>\n",
              "    </tr>\n",
              "    <tr>\n",
              "      <th>...</th>\n",
              "      <td>...</td>\n",
              "      <td>...</td>\n",
              "      <td>...</td>\n",
              "      <td>...</td>\n",
              "      <td>...</td>\n",
              "    </tr>\n",
              "    <tr>\n",
              "      <th>50528696</th>\n",
              "      <td>998229</td>\n",
              "      <td>1498091640</td>\n",
              "      <td>2017-06-22 00:34:00</td>\n",
              "      <td>2017-06-22</td>\n",
              "      <td>0.004167</td>\n",
              "    </tr>\n",
              "    <tr>\n",
              "      <th>50528697</th>\n",
              "      <td>998229</td>\n",
              "      <td>1498091655</td>\n",
              "      <td>2017-06-22 00:34:15</td>\n",
              "      <td>2017-06-22</td>\n",
              "      <td>0.004167</td>\n",
              "    </tr>\n",
              "    <tr>\n",
              "      <th>50528698</th>\n",
              "      <td>998229</td>\n",
              "      <td>1498091670</td>\n",
              "      <td>2017-06-22 00:34:30</td>\n",
              "      <td>2017-06-22</td>\n",
              "      <td>0.004167</td>\n",
              "    </tr>\n",
              "    <tr>\n",
              "      <th>50528699</th>\n",
              "      <td>998229</td>\n",
              "      <td>1498091685</td>\n",
              "      <td>2017-06-22 00:34:45</td>\n",
              "      <td>2017-06-22</td>\n",
              "      <td>0.004167</td>\n",
              "    </tr>\n",
              "    <tr>\n",
              "      <th>50528700</th>\n",
              "      <td>998229</td>\n",
              "      <td>1498091700</td>\n",
              "      <td>2017-06-22 00:35:00</td>\n",
              "      <td>2017-06-22</td>\n",
              "      <td>0.004167</td>\n",
              "    </tr>\n",
              "  </tbody>\n",
              "</table>\n",
              "<p>50489158 rows × 5 columns</p>\n",
              "</div>"
            ],
            "text/plain": [
              "          driver_id  ping_timestamp  ...        date online_hours\n",
              "0            111556      1496279340  ...  2017-06-01     0.033333\n",
              "1            111556      1496279355  ...  2017-06-01     0.004167\n",
              "2            111556      1496279370  ...  2017-06-01     0.004167\n",
              "3            111556      1496279400  ...  2017-06-01     0.008333\n",
              "4            111556      1496279430  ...  2017-06-01     0.008333\n",
              "...             ...             ...  ...         ...          ...\n",
              "50528696     998229      1498091640  ...  2017-06-22     0.004167\n",
              "50528697     998229      1498091655  ...  2017-06-22     0.004167\n",
              "50528698     998229      1498091670  ...  2017-06-22     0.004167\n",
              "50528699     998229      1498091685  ...  2017-06-22     0.004167\n",
              "50528700     998229      1498091700  ...  2017-06-22     0.004167\n",
              "\n",
              "[50489158 rows x 5 columns]"
            ]
          },
          "metadata": {
            "tags": []
          },
          "execution_count": 12
        }
      ]
    },
    {
      "cell_type": "code",
      "metadata": {
        "colab": {
          "base_uri": "https://localhost:8080/",
          "height": 359
        },
        "id": "9ozPPvk_gJmr",
        "outputId": "84e68946-d72b-4a42-cdc7-f32a4357a351"
      },
      "source": [
        "temp_ping_df.fillna(0,inplace = True)\n",
        "\n",
        "#### creating our training data\n",
        "train_df= (temp_ping_df.groupby(by = ['driver_id','date'])['online_hours'].sum()).reset_index()\n",
        "train_df.head(10)"
      ],
      "execution_count": 13,
      "outputs": [
        {
          "output_type": "execute_result",
          "data": {
            "text/html": [
              "<div>\n",
              "<style scoped>\n",
              "    .dataframe tbody tr th:only-of-type {\n",
              "        vertical-align: middle;\n",
              "    }\n",
              "\n",
              "    .dataframe tbody tr th {\n",
              "        vertical-align: top;\n",
              "    }\n",
              "\n",
              "    .dataframe thead th {\n",
              "        text-align: right;\n",
              "    }\n",
              "</style>\n",
              "<table border=\"1\" class=\"dataframe\">\n",
              "  <thead>\n",
              "    <tr style=\"text-align: right;\">\n",
              "      <th></th>\n",
              "      <th>driver_id</th>\n",
              "      <th>date</th>\n",
              "      <th>online_hours</th>\n",
              "    </tr>\n",
              "  </thead>\n",
              "  <tbody>\n",
              "    <tr>\n",
              "      <th>0</th>\n",
              "      <td>111556</td>\n",
              "      <td>2017-06-01</td>\n",
              "      <td>2.250000</td>\n",
              "    </tr>\n",
              "    <tr>\n",
              "      <th>1</th>\n",
              "      <td>111556</td>\n",
              "      <td>2017-06-02</td>\n",
              "      <td>2.533333</td>\n",
              "    </tr>\n",
              "    <tr>\n",
              "      <th>2</th>\n",
              "      <td>111556</td>\n",
              "      <td>2017-06-05</td>\n",
              "      <td>4.700000</td>\n",
              "    </tr>\n",
              "    <tr>\n",
              "      <th>3</th>\n",
              "      <td>111556</td>\n",
              "      <td>2017-06-06</td>\n",
              "      <td>3.150000</td>\n",
              "    </tr>\n",
              "    <tr>\n",
              "      <th>4</th>\n",
              "      <td>111556</td>\n",
              "      <td>2017-06-07</td>\n",
              "      <td>2.662500</td>\n",
              "    </tr>\n",
              "    <tr>\n",
              "      <th>5</th>\n",
              "      <td>111556</td>\n",
              "      <td>2017-06-08</td>\n",
              "      <td>3.212500</td>\n",
              "    </tr>\n",
              "    <tr>\n",
              "      <th>6</th>\n",
              "      <td>111556</td>\n",
              "      <td>2017-06-09</td>\n",
              "      <td>4.466667</td>\n",
              "    </tr>\n",
              "    <tr>\n",
              "      <th>7</th>\n",
              "      <td>111556</td>\n",
              "      <td>2017-06-12</td>\n",
              "      <td>3.766667</td>\n",
              "    </tr>\n",
              "    <tr>\n",
              "      <th>8</th>\n",
              "      <td>111556</td>\n",
              "      <td>2017-06-13</td>\n",
              "      <td>4.416667</td>\n",
              "    </tr>\n",
              "    <tr>\n",
              "      <th>9</th>\n",
              "      <td>111556</td>\n",
              "      <td>2017-06-14</td>\n",
              "      <td>2.016667</td>\n",
              "    </tr>\n",
              "  </tbody>\n",
              "</table>\n",
              "</div>"
            ],
            "text/plain": [
              "   driver_id        date  online_hours\n",
              "0     111556  2017-06-01      2.250000\n",
              "1     111556  2017-06-02      2.533333\n",
              "2     111556  2017-06-05      4.700000\n",
              "3     111556  2017-06-06      3.150000\n",
              "4     111556  2017-06-07      2.662500\n",
              "5     111556  2017-06-08      3.212500\n",
              "6     111556  2017-06-09      4.466667\n",
              "7     111556  2017-06-12      3.766667\n",
              "8     111556  2017-06-13      4.416667\n",
              "9     111556  2017-06-14      2.016667"
            ]
          },
          "metadata": {
            "tags": []
          },
          "execution_count": 13
        }
      ]
    },
    {
      "cell_type": "code",
      "metadata": {
        "colab": {
          "base_uri": "https://localhost:8080/",
          "height": 359
        },
        "id": "Zf4mMjIKgsEz",
        "outputId": "6ed00ccc-b1d0-4912-a437-7782076c4e12"
      },
      "source": [
        "train_df['online_hours'] = round(train_df['online_hours'],1)\n",
        "train_df.head(10)"
      ],
      "execution_count": 14,
      "outputs": [
        {
          "output_type": "execute_result",
          "data": {
            "text/html": [
              "<div>\n",
              "<style scoped>\n",
              "    .dataframe tbody tr th:only-of-type {\n",
              "        vertical-align: middle;\n",
              "    }\n",
              "\n",
              "    .dataframe tbody tr th {\n",
              "        vertical-align: top;\n",
              "    }\n",
              "\n",
              "    .dataframe thead th {\n",
              "        text-align: right;\n",
              "    }\n",
              "</style>\n",
              "<table border=\"1\" class=\"dataframe\">\n",
              "  <thead>\n",
              "    <tr style=\"text-align: right;\">\n",
              "      <th></th>\n",
              "      <th>driver_id</th>\n",
              "      <th>date</th>\n",
              "      <th>online_hours</th>\n",
              "    </tr>\n",
              "  </thead>\n",
              "  <tbody>\n",
              "    <tr>\n",
              "      <th>0</th>\n",
              "      <td>111556</td>\n",
              "      <td>2017-06-01</td>\n",
              "      <td>2.3</td>\n",
              "    </tr>\n",
              "    <tr>\n",
              "      <th>1</th>\n",
              "      <td>111556</td>\n",
              "      <td>2017-06-02</td>\n",
              "      <td>2.5</td>\n",
              "    </tr>\n",
              "    <tr>\n",
              "      <th>2</th>\n",
              "      <td>111556</td>\n",
              "      <td>2017-06-05</td>\n",
              "      <td>4.7</td>\n",
              "    </tr>\n",
              "    <tr>\n",
              "      <th>3</th>\n",
              "      <td>111556</td>\n",
              "      <td>2017-06-06</td>\n",
              "      <td>3.2</td>\n",
              "    </tr>\n",
              "    <tr>\n",
              "      <th>4</th>\n",
              "      <td>111556</td>\n",
              "      <td>2017-06-07</td>\n",
              "      <td>2.7</td>\n",
              "    </tr>\n",
              "    <tr>\n",
              "      <th>5</th>\n",
              "      <td>111556</td>\n",
              "      <td>2017-06-08</td>\n",
              "      <td>3.2</td>\n",
              "    </tr>\n",
              "    <tr>\n",
              "      <th>6</th>\n",
              "      <td>111556</td>\n",
              "      <td>2017-06-09</td>\n",
              "      <td>4.5</td>\n",
              "    </tr>\n",
              "    <tr>\n",
              "      <th>7</th>\n",
              "      <td>111556</td>\n",
              "      <td>2017-06-12</td>\n",
              "      <td>3.8</td>\n",
              "    </tr>\n",
              "    <tr>\n",
              "      <th>8</th>\n",
              "      <td>111556</td>\n",
              "      <td>2017-06-13</td>\n",
              "      <td>4.4</td>\n",
              "    </tr>\n",
              "    <tr>\n",
              "      <th>9</th>\n",
              "      <td>111556</td>\n",
              "      <td>2017-06-14</td>\n",
              "      <td>2.0</td>\n",
              "    </tr>\n",
              "  </tbody>\n",
              "</table>\n",
              "</div>"
            ],
            "text/plain": [
              "   driver_id        date  online_hours\n",
              "0     111556  2017-06-01           2.3\n",
              "1     111556  2017-06-02           2.5\n",
              "2     111556  2017-06-05           4.7\n",
              "3     111556  2017-06-06           3.2\n",
              "4     111556  2017-06-07           2.7\n",
              "5     111556  2017-06-08           3.2\n",
              "6     111556  2017-06-09           4.5\n",
              "7     111556  2017-06-12           3.8\n",
              "8     111556  2017-06-13           4.4\n",
              "9     111556  2017-06-14           2.0"
            ]
          },
          "metadata": {
            "tags": []
          },
          "execution_count": 14
        }
      ]
    },
    {
      "cell_type": "code",
      "metadata": {
        "colab": {
          "base_uri": "https://localhost:8080/",
          "height": 0
        },
        "id": "6vuDldXkg6dU",
        "outputId": "a9bc2079-5260-42d3-8010-a18d6264225b"
      },
      "source": [
        "#Data Visualization\n",
        "counts,bins = np.histogram(train_df[\"online_hours\"],bins = 20,density =True)\n",
        "print(counts)"
      ],
      "execution_count": 15,
      "outputs": [
        {
          "output_type": "stream",
          "text": [
            "[0.02234121 0.07166126 0.08912289 0.0869049  0.09029238 0.09456705\n",
            " 0.10630224 0.114287   0.10384229 0.10533439 0.10452785 0.11098018\n",
            " 0.11045593 0.12646579 0.12134425 0.08113813 0.07190322 0.04625519\n",
            " 0.01621149 0.00673463]\n"
          ],
          "name": "stdout"
        }
      ]
    },
    {
      "cell_type": "code",
      "metadata": {
        "colab": {
          "base_uri": "https://localhost:8080/",
          "height": 280
        },
        "id": "nrtjNJlM1NPh",
        "outputId": "bb439978-1b0f-4072-b783-2125b6ad4172"
      },
      "source": [
        "plt.bar(bins[1:],counts)\n",
        "plt.xlabel(\"online_hours\")\n",
        "plt.ylabel(\"count\")\n",
        "plt.show()"
      ],
      "execution_count": 16,
      "outputs": [
        {
          "output_type": "display_data",
          "data": {
            "image/png": "[encoded data removed]",
            "text/plain": [
              "<Figure size 432x288 with 1 Axes>"
            ]
          },
          "metadata": {
            "tags": [],
            "needs_background": "light"
          }
        }
      ]
    },
    {
      "cell_type": "markdown",
      "metadata": {
        "id": "oFza57f14UUd"
      },
      "source": [
        "this is the histogram of online hours. we can see that the maximum density lies between 4 hrs to 8 hrs."
      ]
    },
    {
      "cell_type": "code",
      "metadata": {
        "colab": {
          "base_uri": "https://localhost:8080/",
          "height": 334
        },
        "id": "1U15orSo7kZ4",
        "outputId": "74e5e3f1-3ed6-49d7-8d00-7d9abb1d84f6"
      },
      "source": [
        "sns.violinplot(\"online_hours\",data = train_df)\n",
        "plt.show()"
      ],
      "execution_count": 17,
      "outputs": [
        {
          "output_type": "stream",
          "text": [
            "/usr/local/lib/python3.7/dist-packages/seaborn/_decorators.py:43: FutureWarning: Pass the following variable as a keyword arg: x. From version 0.12, the only valid positional argument will be `data`, and passing other arguments without an explicit keyword will result in an error or misinterpretation.\n",
            "  FutureWarning\n"
          ],
          "name": "stderr"
        },
        {
          "output_type": "display_data",
          "data": {
            "image/png": "[encoded data removed]",
            "text/plain": [
              "<Figure size 432x288 with 1 Axes>"
            ]
          },
          "metadata": {
            "tags": [],
            "needs_background": "light"
          }
        }
      ]
    },
    {
      "cell_type": "markdown",
      "metadata": {
        "id": "hjCeO_lA2iCg"
      },
      "source": [
        "so most of the drivers are available from 4 hrs to 9 hrs."
      ]
    },
    {
      "cell_type": "code",
      "metadata": {
        "colab": {
          "base_uri": "https://localhost:8080/",
          "height": 265
        },
        "id": "_Waq3Gy92v9g",
        "outputId": "28cca6e8-014a-44b6-f9e0-e7c4191c2183"
      },
      "source": [
        "driver_df[\"gender\"].value_counts().plot(kind=\"barh\")\n",
        "plt.show()"
      ],
      "execution_count": 18,
      "outputs": [
        {
          "output_type": "display_data",
          "data": {
            "image/png": "[encoded data removed]",
            "text/plain": [
              "<Figure size 432x288 with 1 Axes>"
            ]
          },
          "metadata": {
            "tags": [],
            "needs_background": "light"
          }
        }
      ]
    },
    {
      "cell_type": "markdown",
      "metadata": {
        "id": "gZ8ZVqp44-z2"
      },
      "source": [
        "above plot shows the No of male and female drivers. here we can see than no of male drivers are approx 3 times more than the no. of female drivers."
      ]
    },
    {
      "cell_type": "code",
      "metadata": {
        "colab": {
          "base_uri": "https://localhost:8080/",
          "height": 279
        },
        "id": "VSrvmWiK3r7V",
        "outputId": "6e653fdb-6b2c-4ac0-a079-62f2f2dc4b4d"
      },
      "source": [
        "plt.hist(driver_df[\"age\"],bins = 20)\n",
        "plt.xlabel(\"age\")\n",
        "plt.ylabel(\"counts\")\n",
        "plt.show()"
      ],
      "execution_count": 19,
      "outputs": [
        {
          "output_type": "display_data",
          "data": {
            "image/png": "[encoded data removed]",
            "text/plain": [
              "<Figure size 432x288 with 1 Axes>"
            ]
          },
          "metadata": {
            "tags": [],
            "needs_background": "light"
          }
        }
      ]
    },
    {
      "cell_type": "markdown",
      "metadata": {
        "id": "jIcQ50BL5l7n"
      },
      "source": [
        "this is the histogram of the age. we can clearly see that the maximum drivers are having age in the range of 20 to 35."
      ]
    },
    {
      "cell_type": "code",
      "metadata": {
        "colab": {
          "base_uri": "https://localhost:8080/",
          "height": 333
        },
        "id": "H7Inzn2C5rWx",
        "outputId": "2b94412f-a062-40cb-e2f4-ebaca804607d"
      },
      "source": [
        "sns.violinplot(\"age\",data = driver_df)\n",
        "plt.show()"
      ],
      "execution_count": 20,
      "outputs": [
        {
          "output_type": "stream",
          "text": [
            "/usr/local/lib/python3.7/dist-packages/seaborn/_decorators.py:43: FutureWarning: Pass the following variable as a keyword arg: x. From version 0.12, the only valid positional argument will be `data`, and passing other arguments without an explicit keyword will result in an error or misinterpretation.\n",
            "  FutureWarning\n"
          ],
          "name": "stderr"
        },
        {
          "output_type": "display_data",
          "data": {
            "image/png": "[encoded data removed]",
            "text/plain": [
              "<Figure size 432x288 with 1 Axes>"
            ]
          },
          "metadata": {
            "tags": [],
            "needs_background": "light"
          }
        }
      ]
    },
    {
      "cell_type": "markdown",
      "metadata": {
        "id": "vEFpp99D8mEa"
      },
      "source": [
        "approx 50% drivers are having age less than 35."
      ]
    },
    {
      "cell_type": "code",
      "metadata": {
        "id": "psrBsMJA8tAA",
        "colab": {
          "base_uri": "https://localhost:8080/",
          "height": 567
        },
        "outputId": "fbb99fc2-b3be-4ec2-8989-9d3aee095ff5"
      },
      "source": [
        "plt.figure(figsize = (15,15))\n",
        "sns.pairplot(driver_df)\n",
        "plt.show()"
      ],
      "execution_count": 21,
      "outputs": [
        {
          "output_type": "display_data",
          "data": {
            "text/plain": [
              "<Figure size 1080x1080 with 0 Axes>"
            ]
          },
          "metadata": {
            "tags": []
          }
        },
        {
          "output_type": "display_data",
          "data": {
            "image/png": "[encoded data removed]",
            "text/plain": [
              "<Figure size 540x540 with 12 Axes>"
            ]
          },
          "metadata": {
            "tags": [],
            "needs_background": "light"
          }
        }
      ]
    },
    {
      "cell_type": "code",
      "metadata": {
        "id": "cMZY6DNV-Pg9",
        "colab": {
          "base_uri": "https://localhost:8080/",
          "height": 334
        },
        "outputId": "4009889c-e35c-4459-ed48-e3242c2e9aeb"
      },
      "source": [
        "sns.violinplot(\"number_of_kids\",data = driver_df)\n",
        "plt.show()"
      ],
      "execution_count": 22,
      "outputs": [
        {
          "output_type": "stream",
          "text": [
            "/usr/local/lib/python3.7/dist-packages/seaborn/_decorators.py:43: FutureWarning: Pass the following variable as a keyword arg: x. From version 0.12, the only valid positional argument will be `data`, and passing other arguments without an explicit keyword will result in an error or misinterpretation.\n",
            "  FutureWarning\n"
          ],
          "name": "stderr"
        },
        {
          "output_type": "display_data",
          "data": {
            "image/png": "[encoded data removed]",
            "text/plain": [
              "<Figure size 432x288 with 1 Axes>"
            ]
          },
          "metadata": {
            "tags": [],
            "needs_background": "light"
          }
        }
      ]
    },
    {
      "cell_type": "markdown",
      "metadata": {
        "id": "7gvON9wT6bnH"
      },
      "source": [
        "Most of the drivers don't have any kids."
      ]
    },
    {
      "cell_type": "code",
      "metadata": {
        "id": "64Fzcp5S-15p"
      },
      "source": [
        "#lets check for the online availibility of male and female drivers\n",
        "male_driver_ids = driver_df[driver_df[\"gender\"]==\"MALE\"].driver_id\n",
        "female_driver_ids = driver_df[driver_df[\"gender\"]==\"FEMALE\"].driver_id\n",
        "female_online_hours = train_df[train_df[\"driver_id\"].isin(female_driver_ids)][\"online_hours\"]\n",
        "male_online_hours = train_df[train_df[\"driver_id\"].isin(male_driver_ids)][\"online_hours\"]"
      ],
      "execution_count": 23,
      "outputs": []
    },
    {
      "cell_type": "code",
      "metadata": {
        "id": "-ljVRBCxCru_",
        "colab": {
          "base_uri": "https://localhost:8080/",
          "height": 609
        },
        "outputId": "f9b77c8f-4d65-4dcb-d701-faa0969fb456"
      },
      "source": [
        "plt.figure(figsize=(20,10))\n",
        "plt.subplot(121)\n",
        "plt.hist(female_online_hours,bins = 20)\n",
        "plt.xlabel(\"online_hours\")\n",
        "plt.ylabel(\"female_count\")\n",
        "plt.subplot(122)\n",
        "plt.hist(male_online_hours,bins = 20)\n",
        "plt.xlabel(\"online_hours\")\n",
        "plt.ylabel(\"male_count\")\n",
        "plt.show()"
      ],
      "execution_count": 24,
      "outputs": [
        {
          "output_type": "display_data",
          "data": {
            "image/png": "[encoded data removed]",
            "text/plain": [
              "<Figure size 1440x720 with 2 Axes>"
            ]
          },
          "metadata": {
            "tags": [],
            "needs_background": "light"
          }
        }
      ]
    },
    {
      "cell_type": "markdown",
      "metadata": {
        "id": "883KaAaEEqBP"
      },
      "source": [
        "most of the female driver's online hours are in range of 1 to 5 and in case of male driver's that is in the range of 6 to 8. so from the data we can say the availibilty of male driver is more as compared to female."
      ]
    },
    {
      "cell_type": "code",
      "metadata": {
        "id": "kTew2zcrEv0S",
        "colab": {
          "base_uri": "https://localhost:8080/",
          "height": 279
        },
        "outputId": "2fec5a5c-af0e-4a8f-db5f-39617734265f"
      },
      "source": [
        "sns.countplot(x = \"gender\",hue=\"number_of_kids\",data=driver_df)\n",
        "plt.show()"
      ],
      "execution_count": 25,
      "outputs": [
        {
          "output_type": "display_data",
          "data": {
            "image/png": "[encoded data removed]",
            "text/plain": [
              "<Figure size 432x288 with 1 Axes>"
            ]
          },
          "metadata": {
            "tags": [],
            "needs_background": "light"
          }
        }
      ]
    },
    {
      "cell_type": "code",
      "metadata": {
        "id": "oudCTj6MFdnT",
        "colab": {
          "base_uri": "https://localhost:8080/",
          "height": 327
        },
        "outputId": "a2e5b1eb-5d4f-4dba-f96d-beefdc3e88f3"
      },
      "source": [
        "train_df.groupby(\"date\").driver_id.count().plot(kind=\"bar\")\n",
        "plt.show()"
      ],
      "execution_count": 26,
      "outputs": [
        {
          "output_type": "display_data",
          "data": {
            "image/png": "[encoded data removed]",
            "text/plain": [
              "<Figure size 432x288 with 1 Axes>"
            ]
          },
          "metadata": {
            "tags": [],
            "needs_background": "light"
          }
        }
      ]
    },
    {
      "cell_type": "markdown",
      "metadata": {
        "id": "LF6cZhkBIc_N"
      },
      "source": [
        "here we can clearly see that on saturdays and sundays driver availibilty goes down by 50% approx. "
      ]
    },
    {
      "cell_type": "code",
      "metadata": {
        "id": "E6FDsTvUItul",
        "colab": {
          "base_uri": "https://localhost:8080/",
          "height": 204
        },
        "outputId": "4ad6b86e-b993-4b93-fde0-aa2245be47c9"
      },
      "source": [
        "'''we have data of 22nd june in the train data but we need to predict that in testing so we need to remove that data and from the above plot we can see that\n",
        "the data is not balanced so we need to add 0 online hours for some dates.'''\n",
        "\n",
        "train_df[\"date\"] = train_df[\"date\"].astype(str) \n",
        "train_df = train_df[train_df[\"date\"]<'2017-06-22'] ## data correction\n",
        "\n",
        "train_date_df = pd.DataFrame({'date':pd.date_range(start='2017-06-01',end = '2017-06-21')})\n",
        "train_date_df.head()"
      ],
      "execution_count": 27,
      "outputs": [
        {
          "output_type": "execute_result",
          "data": {
            "text/html": [
              "<div>\n",
              "<style scoped>\n",
              "    .dataframe tbody tr th:only-of-type {\n",
              "        vertical-align: middle;\n",
              "    }\n",
              "\n",
              "    .dataframe tbody tr th {\n",
              "        vertical-align: top;\n",
              "    }\n",
              "\n",
              "    .dataframe thead th {\n",
              "        text-align: right;\n",
              "    }\n",
              "</style>\n",
              "<table border=\"1\" class=\"dataframe\">\n",
              "  <thead>\n",
              "    <tr style=\"text-align: right;\">\n",
              "      <th></th>\n",
              "      <th>date</th>\n",
              "    </tr>\n",
              "  </thead>\n",
              "  <tbody>\n",
              "    <tr>\n",
              "      <th>0</th>\n",
              "      <td>2017-06-01</td>\n",
              "    </tr>\n",
              "    <tr>\n",
              "      <th>1</th>\n",
              "      <td>2017-06-02</td>\n",
              "    </tr>\n",
              "    <tr>\n",
              "      <th>2</th>\n",
              "      <td>2017-06-03</td>\n",
              "    </tr>\n",
              "    <tr>\n",
              "      <th>3</th>\n",
              "      <td>2017-06-04</td>\n",
              "    </tr>\n",
              "    <tr>\n",
              "      <th>4</th>\n",
              "      <td>2017-06-05</td>\n",
              "    </tr>\n",
              "  </tbody>\n",
              "</table>\n",
              "</div>"
            ],
            "text/plain": [
              "        date\n",
              "0 2017-06-01\n",
              "1 2017-06-02\n",
              "2 2017-06-03\n",
              "3 2017-06-04\n",
              "4 2017-06-05"
            ]
          },
          "metadata": {
            "tags": []
          },
          "execution_count": 27
        }
      ]
    },
    {
      "cell_type": "code",
      "metadata": {
        "id": "_323wMoeHmyp",
        "colab": {
          "base_uri": "https://localhost:8080/",
          "height": 0
        },
        "outputId": "d3bc5940-e377-4be7-8661-2b8dbfb8d065"
      },
      "source": [
        "train_date_df[\"date\"] = (train_date_df[\"date\"]).astype(str)\n",
        "\n",
        "ids_group = train_df.groupby(\"driver_id\")[\"date\"].unique()\n",
        "ids_group.head()"
      ],
      "execution_count": 28,
      "outputs": [
        {
          "output_type": "execute_result",
          "data": {
            "text/plain": [
              "driver_id\n",
              "111556    [2017-06-01, 2017-06-02, 2017-06-05, 2017-06-0...\n",
              "111575    [2017-06-01, 2017-06-05, 2017-06-06, 2017-06-0...\n",
              "111779    [2017-06-01, 2017-06-02, 2017-06-06, 2017-06-0...\n",
              "111839    [2017-06-01, 2017-06-02, 2017-06-03, 2017-06-0...\n",
              "112486    [2017-06-01, 2017-06-02, 2017-06-05, 2017-06-0...\n",
              "Name: date, dtype: object"
            ]
          },
          "metadata": {
            "tags": []
          },
          "execution_count": 28
        }
      ]
    },
    {
      "cell_type": "code",
      "metadata": {
        "id": "0WaTWuxwtiVV",
        "colab": {
          "base_uri": "https://localhost:8080/",
          "height": 204
        },
        "outputId": "22c3a7ff-ec20-44cf-cde2-973ebf27102e"
      },
      "source": [
        "driver_id_list = []\n",
        "date_list = []\n",
        "online_hours = []\n",
        "for ids,dates in zip(ids_group.keys(),ids_group.values):\n",
        "    date_ = dates.tolist()\n",
        "\n",
        "    for date in train_date_df[\"date\"].tolist():\n",
        "        if date_ == train_date_df[\"date\"].tolist():\n",
        "          break\n",
        "        else:\n",
        "          if date not in date_:\n",
        "            driver_id_list.append(ids)\n",
        "            date_list.append(date)\n",
        "            online_hours.append(0)\n",
        "\n",
        "zero_df = pd.DataFrame({'driver_id':driver_id_list,'date':date_list,'online_hours':online_hours})\n",
        "\n",
        "zero_df.head()\n",
        "\n",
        "\n"
      ],
      "execution_count": 29,
      "outputs": [
        {
          "output_type": "execute_result",
          "data": {
            "text/html": [
              "<div>\n",
              "<style scoped>\n",
              "    .dataframe tbody tr th:only-of-type {\n",
              "        vertical-align: middle;\n",
              "    }\n",
              "\n",
              "    .dataframe tbody tr th {\n",
              "        vertical-align: top;\n",
              "    }\n",
              "\n",
              "    .dataframe thead th {\n",
              "        text-align: right;\n",
              "    }\n",
              "</style>\n",
              "<table border=\"1\" class=\"dataframe\">\n",
              "  <thead>\n",
              "    <tr style=\"text-align: right;\">\n",
              "      <th></th>\n",
              "      <th>driver_id</th>\n",
              "      <th>date</th>\n",
              "      <th>online_hours</th>\n",
              "    </tr>\n",
              "  </thead>\n",
              "  <tbody>\n",
              "    <tr>\n",
              "      <th>0</th>\n",
              "      <td>111556</td>\n",
              "      <td>2017-06-03</td>\n",
              "      <td>0</td>\n",
              "    </tr>\n",
              "    <tr>\n",
              "      <th>1</th>\n",
              "      <td>111556</td>\n",
              "      <td>2017-06-04</td>\n",
              "      <td>0</td>\n",
              "    </tr>\n",
              "    <tr>\n",
              "      <th>2</th>\n",
              "      <td>111556</td>\n",
              "      <td>2017-06-10</td>\n",
              "      <td>0</td>\n",
              "    </tr>\n",
              "    <tr>\n",
              "      <th>3</th>\n",
              "      <td>111556</td>\n",
              "      <td>2017-06-11</td>\n",
              "      <td>0</td>\n",
              "    </tr>\n",
              "    <tr>\n",
              "      <th>4</th>\n",
              "      <td>111556</td>\n",
              "      <td>2017-06-16</td>\n",
              "      <td>0</td>\n",
              "    </tr>\n",
              "  </tbody>\n",
              "</table>\n",
              "</div>"
            ],
            "text/plain": [
              "   driver_id        date  online_hours\n",
              "0     111556  2017-06-03             0\n",
              "1     111556  2017-06-04             0\n",
              "2     111556  2017-06-10             0\n",
              "3     111556  2017-06-11             0\n",
              "4     111556  2017-06-16             0"
            ]
          },
          "metadata": {
            "tags": []
          },
          "execution_count": 29
        }
      ]
    },
    {
      "cell_type": "code",
      "metadata": {
        "id": "96MMdjXsvzft"
      },
      "source": [
        "#train_df_backup = train_df.copy()\n",
        "\n",
        "train_df = pd.concat([train_df,zero_df],sort =False)\n",
        "\n",
        "train_df = train_df.sort_values(by=[\"driver_id\",\"date\"])\n",
        "\n"
      ],
      "execution_count": 30,
      "outputs": []
    },
    {
      "cell_type": "code",
      "metadata": {
        "id": "OtgkOmTmIcf_",
        "colab": {
          "base_uri": "https://localhost:8080/",
          "height": 0
        },
        "outputId": "143c4b7f-b1f8-4055-8a07-fefbe153bdd0"
      },
      "source": [
        "#check for any duplicate data in train_df\n",
        "\n",
        "print(\"any duplicate values in the training data\")\n",
        "print(train_df.duplicated().any(),\"\\n\")\n",
        "\n",
        "print(\"any null values in the train_df\")\n",
        "print(train_df.isnull().any())\n"
      ],
      "execution_count": 31,
      "outputs": [
        {
          "output_type": "stream",
          "text": [
            "any duplicate values in the training data\n",
            "False \n",
            "\n",
            "any null values in the train_df\n",
            "driver_id       False\n",
            "date            False\n",
            "online_hours    False\n",
            "dtype: bool\n"
          ],
          "name": "stdout"
        }
      ]
    },
    {
      "cell_type": "code",
      "metadata": {
        "id": "z-SNHdCyKJdS",
        "colab": {
          "base_uri": "https://localhost:8080/",
          "height": 204
        },
        "outputId": "ff5fb1a1-c26c-459d-e075-5b49b099e5d3"
      },
      "source": [
        "train_df.head()"
      ],
      "execution_count": 32,
      "outputs": [
        {
          "output_type": "execute_result",
          "data": {
            "text/html": [
              "<div>\n",
              "<style scoped>\n",
              "    .dataframe tbody tr th:only-of-type {\n",
              "        vertical-align: middle;\n",
              "    }\n",
              "\n",
              "    .dataframe tbody tr th {\n",
              "        vertical-align: top;\n",
              "    }\n",
              "\n",
              "    .dataframe thead th {\n",
              "        text-align: right;\n",
              "    }\n",
              "</style>\n",
              "<table border=\"1\" class=\"dataframe\">\n",
              "  <thead>\n",
              "    <tr style=\"text-align: right;\">\n",
              "      <th></th>\n",
              "      <th>driver_id</th>\n",
              "      <th>date</th>\n",
              "      <th>online_hours</th>\n",
              "    </tr>\n",
              "  </thead>\n",
              "  <tbody>\n",
              "    <tr>\n",
              "      <th>0</th>\n",
              "      <td>111556</td>\n",
              "      <td>2017-06-01</td>\n",
              "      <td>2.3</td>\n",
              "    </tr>\n",
              "    <tr>\n",
              "      <th>1</th>\n",
              "      <td>111556</td>\n",
              "      <td>2017-06-02</td>\n",
              "      <td>2.5</td>\n",
              "    </tr>\n",
              "    <tr>\n",
              "      <th>0</th>\n",
              "      <td>111556</td>\n",
              "      <td>2017-06-03</td>\n",
              "      <td>0.0</td>\n",
              "    </tr>\n",
              "    <tr>\n",
              "      <th>1</th>\n",
              "      <td>111556</td>\n",
              "      <td>2017-06-04</td>\n",
              "      <td>0.0</td>\n",
              "    </tr>\n",
              "    <tr>\n",
              "      <th>2</th>\n",
              "      <td>111556</td>\n",
              "      <td>2017-06-05</td>\n",
              "      <td>4.7</td>\n",
              "    </tr>\n",
              "  </tbody>\n",
              "</table>\n",
              "</div>"
            ],
            "text/plain": [
              "   driver_id        date  online_hours\n",
              "0     111556  2017-06-01           2.3\n",
              "1     111556  2017-06-02           2.5\n",
              "0     111556  2017-06-03           0.0\n",
              "1     111556  2017-06-04           0.0\n",
              "2     111556  2017-06-05           4.7"
            ]
          },
          "metadata": {
            "tags": []
          },
          "execution_count": 32
        }
      ]
    },
    {
      "cell_type": "code",
      "metadata": {
        "colab": {
          "base_uri": "https://localhost:8080/",
          "height": 0
        },
        "id": "aUviiVIIILp1",
        "outputId": "48b955d4-2fe5-43ef-b4f0-a34ad5270bf2"
      },
      "source": [
        "train_df.shape"
      ],
      "execution_count": 45,
      "outputs": [
        {
          "output_type": "execute_result",
          "data": {
            "text/plain": [
              "(52080, 3)"
            ]
          },
          "metadata": {
            "tags": []
          },
          "execution_count": 45
        }
      ]
    },
    {
      "cell_type": "code",
      "metadata": {
        "id": "bxCcQiRsUA-u",
        "colab": {
          "base_uri": "https://localhost:8080/",
          "height": 0
        },
        "outputId": "9ba124bb-ba17-451e-f77b-d4ad070f7252"
      },
      "source": [
        "#concatenate the train and test data\n",
        "test_df = test_df.sort_values(by = [\"driver_id\",\"date\"])\n",
        "test_df[\"date\"] = pd.to_datetime(test_df[\"date\"]).dt.date\n",
        "test_df_backup = test_df.copy()\n",
        "#test_dropped_df = test_df.drop(\"online_hours\",axis =1)\n",
        "df = pd.concat([train_df, test_df], sort=False)\n",
        "print('\\n' + 'Shape of The Concatinated DateFrame: {}'.format(df.shape) +'\\n')\n",
        "\n",
        "print('\\n' +'*'*10+ ' Head of The Concatinated DataFrame ' +'*'*10+'\\n')\n",
        "print(df.head())\n",
        "\n",
        "print('\\n' +'*'*10+ ' Tail of The Concatinated DataFrame ' +'*'*10+'\\n')\n",
        "print(df.tail())\n",
        "\n",
        "print('\\n' +'*'*5+ ' After filling NaN values with Zeros in Concatinated DataFrame ' +'*'*5+'\\n')\n",
        "df.fillna(0,inplace = True)\n",
        "print(df.tail())\n",
        "print('\\n' +'*'*50+ '\\n')"
      ],
      "execution_count": 69,
      "outputs": [
        {
          "output_type": "stream",
          "text": [
            "\n",
            "Shape of The Concatinated DateFrame: (69580, 3)\n",
            "\n",
            "\n",
            "********** Head of The Concatinated DataFrame **********\n",
            "\n",
            "   driver_id        date  online_hours\n",
            "0     111556  2017-06-01           2.3\n",
            "1     111556  2017-06-02           2.5\n",
            "0     111556  2017-06-03           0.0\n",
            "1     111556  2017-06-04           0.0\n",
            "2     111556  2017-06-05           4.7\n",
            "\n",
            "********** Tail of The Concatinated DataFrame **********\n",
            "\n",
            "       driver_id        date  online_hours\n",
            "12387     998740  2017-06-24           0.0\n",
            "12386     998740  2017-06-25           0.0\n",
            "12385     998740  2017-06-26           0.0\n",
            "12384     998740  2017-06-27           0.0\n",
            "12383     998740  2017-06-28           0.0\n",
            "\n",
            "***** After filling NaN values with Zeros in Concatinated DataFrame *****\n",
            "\n",
            "       driver_id        date  online_hours\n",
            "12387     998740  2017-06-24           0.0\n",
            "12386     998740  2017-06-25           0.0\n",
            "12385     998740  2017-06-26           0.0\n",
            "12384     998740  2017-06-27           0.0\n",
            "12383     998740  2017-06-28           0.0\n",
            "\n",
            "**************************************************\n",
            "\n"
          ],
          "name": "stdout"
        }
      ]
    },
    {
      "cell_type": "code",
      "metadata": {
        "id": "9bgsFaJQ4ypT"
      },
      "source": [
        "temp_df = pd.merge(left = driver_df, right = df, on = 'driver_id', how = 'right')\n",
        "\n",
        "temp_df.dropna(inplace = True) #drop null values\n",
        "temp_df['gender'] = temp_df['gender'].replace({'MALE':1, 'FEMALE':0}) #change categorical values into numerical values\n",
        "\n",
        "temp_df['date'] = pd.to_datetime(temp_df['date'])\n",
        "\n",
        "## data and time related basic features\n",
        "temp_df['day_name'] = temp_df['date'].dt.day_name()\n",
        "temp_df['day'] = temp_df['date'].dt.day\n",
        "temp_df['month'] = temp_df['date'].dt.month\n",
        "temp_df['month_name'] = temp_df['date'].dt.month_name()\n",
        "temp_df['year'] = temp_df['date'].dt.year\n",
        "\n",
        "\n",
        "\n",
        "week_names = {'Sunday':0,'Monday':'1','Tuesday':2,'Wednesday':3, 'Thursday':4,'Friday':5,'Saturday':6}\n",
        "month_names = {'January':0, 'February':1,'March':2,'April':3,'May':4,'June':5,'July':6,\n",
        "                'August':7, 'September':8,'October':9,'November':10,'December':11}\n",
        "\n",
        "temp_df['day_name'] = temp_df['day_name'].map(week_names)\n",
        "temp_df['month_name'] = temp_df['month_name'].map(month_names)\n"
      ],
      "execution_count": 70,
      "outputs": []
    },
    {
      "cell_type": "code",
      "metadata": {
        "colab": {
          "base_uri": "https://localhost:8080/",
          "height": 204
        },
        "id": "HPGaQYNy5Tb0",
        "outputId": "7b5ae200-479c-4344-ffa4-0da165f615ca"
      },
      "source": [
        "temp_df.head()"
      ],
      "execution_count": 71,
      "outputs": [
        {
          "output_type": "execute_result",
          "data": {
            "text/html": [
              "<div>\n",
              "<style scoped>\n",
              "    .dataframe tbody tr th:only-of-type {\n",
              "        vertical-align: middle;\n",
              "    }\n",
              "\n",
              "    .dataframe tbody tr th {\n",
              "        vertical-align: top;\n",
              "    }\n",
              "\n",
              "    .dataframe thead th {\n",
              "        text-align: right;\n",
              "    }\n",
              "</style>\n",
              "<table border=\"1\" class=\"dataframe\">\n",
              "  <thead>\n",
              "    <tr style=\"text-align: right;\">\n",
              "      <th></th>\n",
              "      <th>driver_id</th>\n",
              "      <th>gender</th>\n",
              "      <th>age</th>\n",
              "      <th>number_of_kids</th>\n",
              "      <th>date</th>\n",
              "      <th>online_hours</th>\n",
              "      <th>day_name</th>\n",
              "      <th>day</th>\n",
              "      <th>month</th>\n",
              "      <th>month_name</th>\n",
              "      <th>year</th>\n",
              "    </tr>\n",
              "  </thead>\n",
              "  <tbody>\n",
              "    <tr>\n",
              "      <th>0</th>\n",
              "      <td>111556</td>\n",
              "      <td>0</td>\n",
              "      <td>49</td>\n",
              "      <td>4</td>\n",
              "      <td>2017-06-01</td>\n",
              "      <td>2.3</td>\n",
              "      <td>4</td>\n",
              "      <td>1</td>\n",
              "      <td>6</td>\n",
              "      <td>5</td>\n",
              "      <td>2017</td>\n",
              "    </tr>\n",
              "    <tr>\n",
              "      <th>1</th>\n",
              "      <td>111556</td>\n",
              "      <td>0</td>\n",
              "      <td>49</td>\n",
              "      <td>4</td>\n",
              "      <td>2017-06-02</td>\n",
              "      <td>2.5</td>\n",
              "      <td>5</td>\n",
              "      <td>2</td>\n",
              "      <td>6</td>\n",
              "      <td>5</td>\n",
              "      <td>2017</td>\n",
              "    </tr>\n",
              "    <tr>\n",
              "      <th>2</th>\n",
              "      <td>111556</td>\n",
              "      <td>0</td>\n",
              "      <td>49</td>\n",
              "      <td>4</td>\n",
              "      <td>2017-06-03</td>\n",
              "      <td>0.0</td>\n",
              "      <td>6</td>\n",
              "      <td>3</td>\n",
              "      <td>6</td>\n",
              "      <td>5</td>\n",
              "      <td>2017</td>\n",
              "    </tr>\n",
              "    <tr>\n",
              "      <th>3</th>\n",
              "      <td>111556</td>\n",
              "      <td>0</td>\n",
              "      <td>49</td>\n",
              "      <td>4</td>\n",
              "      <td>2017-06-04</td>\n",
              "      <td>0.0</td>\n",
              "      <td>0</td>\n",
              "      <td>4</td>\n",
              "      <td>6</td>\n",
              "      <td>5</td>\n",
              "      <td>2017</td>\n",
              "    </tr>\n",
              "    <tr>\n",
              "      <th>4</th>\n",
              "      <td>111556</td>\n",
              "      <td>0</td>\n",
              "      <td>49</td>\n",
              "      <td>4</td>\n",
              "      <td>2017-06-05</td>\n",
              "      <td>4.7</td>\n",
              "      <td>1</td>\n",
              "      <td>5</td>\n",
              "      <td>6</td>\n",
              "      <td>5</td>\n",
              "      <td>2017</td>\n",
              "    </tr>\n",
              "  </tbody>\n",
              "</table>\n",
              "</div>"
            ],
            "text/plain": [
              "   driver_id  gender  age  number_of_kids  ... day  month month_name  year\n",
              "0     111556       0   49               4  ...   1      6          5  2017\n",
              "1     111556       0   49               4  ...   2      6          5  2017\n",
              "2     111556       0   49               4  ...   3      6          5  2017\n",
              "3     111556       0   49               4  ...   4      6          5  2017\n",
              "4     111556       0   49               4  ...   5      6          5  2017\n",
              "\n",
              "[5 rows x 11 columns]"
            ]
          },
          "metadata": {
            "tags": []
          },
          "execution_count": 71
        }
      ]
    },
    {
      "cell_type": "code",
      "metadata": {
        "colab": {
          "base_uri": "https://localhost:8080/",
          "height": 204
        },
        "id": "nAoq2C8YFneE",
        "outputId": "5875f850-95ae-45a8-dfc4-a9a590f62f80"
      },
      "source": [
        "temp_df.tail()"
      ],
      "execution_count": 72,
      "outputs": [
        {
          "output_type": "execute_result",
          "data": {
            "text/html": [
              "<div>\n",
              "<style scoped>\n",
              "    .dataframe tbody tr th:only-of-type {\n",
              "        vertical-align: middle;\n",
              "    }\n",
              "\n",
              "    .dataframe tbody tr th {\n",
              "        vertical-align: top;\n",
              "    }\n",
              "\n",
              "    .dataframe thead th {\n",
              "        text-align: right;\n",
              "    }\n",
              "</style>\n",
              "<table border=\"1\" class=\"dataframe\">\n",
              "  <thead>\n",
              "    <tr style=\"text-align: right;\">\n",
              "      <th></th>\n",
              "      <th>driver_id</th>\n",
              "      <th>gender</th>\n",
              "      <th>age</th>\n",
              "      <th>number_of_kids</th>\n",
              "      <th>date</th>\n",
              "      <th>online_hours</th>\n",
              "      <th>day_name</th>\n",
              "      <th>day</th>\n",
              "      <th>month</th>\n",
              "      <th>month_name</th>\n",
              "      <th>year</th>\n",
              "    </tr>\n",
              "  </thead>\n",
              "  <tbody>\n",
              "    <tr>\n",
              "      <th>69680</th>\n",
              "      <td>998740</td>\n",
              "      <td>1</td>\n",
              "      <td>27</td>\n",
              "      <td>0</td>\n",
              "      <td>2017-06-24</td>\n",
              "      <td>0.0</td>\n",
              "      <td>6</td>\n",
              "      <td>24</td>\n",
              "      <td>6</td>\n",
              "      <td>5</td>\n",
              "      <td>2017</td>\n",
              "    </tr>\n",
              "    <tr>\n",
              "      <th>69681</th>\n",
              "      <td>998740</td>\n",
              "      <td>1</td>\n",
              "      <td>27</td>\n",
              "      <td>0</td>\n",
              "      <td>2017-06-25</td>\n",
              "      <td>0.0</td>\n",
              "      <td>0</td>\n",
              "      <td>25</td>\n",
              "      <td>6</td>\n",
              "      <td>5</td>\n",
              "      <td>2017</td>\n",
              "    </tr>\n",
              "    <tr>\n",
              "      <th>69682</th>\n",
              "      <td>998740</td>\n",
              "      <td>1</td>\n",
              "      <td>27</td>\n",
              "      <td>0</td>\n",
              "      <td>2017-06-26</td>\n",
              "      <td>0.0</td>\n",
              "      <td>1</td>\n",
              "      <td>26</td>\n",
              "      <td>6</td>\n",
              "      <td>5</td>\n",
              "      <td>2017</td>\n",
              "    </tr>\n",
              "    <tr>\n",
              "      <th>69683</th>\n",
              "      <td>998740</td>\n",
              "      <td>1</td>\n",
              "      <td>27</td>\n",
              "      <td>0</td>\n",
              "      <td>2017-06-27</td>\n",
              "      <td>0.0</td>\n",
              "      <td>2</td>\n",
              "      <td>27</td>\n",
              "      <td>6</td>\n",
              "      <td>5</td>\n",
              "      <td>2017</td>\n",
              "    </tr>\n",
              "    <tr>\n",
              "      <th>69684</th>\n",
              "      <td>998740</td>\n",
              "      <td>1</td>\n",
              "      <td>27</td>\n",
              "      <td>0</td>\n",
              "      <td>2017-06-28</td>\n",
              "      <td>0.0</td>\n",
              "      <td>3</td>\n",
              "      <td>28</td>\n",
              "      <td>6</td>\n",
              "      <td>5</td>\n",
              "      <td>2017</td>\n",
              "    </tr>\n",
              "  </tbody>\n",
              "</table>\n",
              "</div>"
            ],
            "text/plain": [
              "       driver_id  gender  age  number_of_kids  ... day  month month_name  year\n",
              "69680     998740       1   27               0  ...  24      6          5  2017\n",
              "69681     998740       1   27               0  ...  25      6          5  2017\n",
              "69682     998740       1   27               0  ...  26      6          5  2017\n",
              "69683     998740       1   27               0  ...  27      6          5  2017\n",
              "69684     998740       1   27               0  ...  28      6          5  2017\n",
              "\n",
              "[5 rows x 11 columns]"
            ]
          },
          "metadata": {
            "tags": []
          },
          "execution_count": 72
        }
      ]
    },
    {
      "cell_type": "code",
      "metadata": {
        "id": "MWMMSkDm6C78"
      },
      "source": [
        "from sklearn.model_selection import (TimeSeriesSplit,\n",
        "                                     GridSearchCV,\n",
        "                                     RandomizedSearchCV,\n",
        "                                     train_test_split, \n",
        "                                     KFold, \n",
        "                                     StratifiedKFold,\n",
        "                                    cross_val_score)\n",
        "\n",
        "from sklearn.preprocessing import (LabelEncoder,\n",
        "                                   StandardScaler, \n",
        "                                   MinMaxScaler, \n",
        "                                   OrdinalEncoder)\n",
        "\n",
        "from sklearn.feature_selection import SelectFromModel\n",
        "\n",
        "\n",
        "# metrics\n",
        "from sklearn.metrics import (mean_squared_error, \n",
        "                             r2_score, \n",
        "                             mean_absolute_error)\n",
        "from sklearn.metrics import make_scorer\n",
        "\n",
        "\n",
        "# modeling algos\n",
        "from sklearn.linear_model import (LogisticRegression,\n",
        "                                  Lasso, \n",
        "                                  ridge_regression,\n",
        "                                  LinearRegression)\n",
        "from sklearn.tree import DecisionTreeRegressor\n",
        "from sklearn.ensemble import (AdaBoostRegressor, \n",
        "                              RandomForestRegressor,\n",
        "                              VotingRegressor, \n",
        "                              GradientBoostingRegressor)\n",
        "from xgboost import XGBRegressor\n",
        "from lightgbm import (LGBMRegressor,\n",
        "                      early_stopping)\n",
        "\n",
        "from sklearn.base import clone ## sklearn base models for stacked ensemble model\n"
      ],
      "execution_count": 36,
      "outputs": []
    },
    {
      "cell_type": "code",
      "metadata": {
        "colab": {
          "base_uri": "https://localhost:8080/",
          "height": 0
        },
        "id": "tY04FMde5aVq",
        "outputId": "9be34e81-9196-4edd-cb97-8fb40f9a7a58"
      },
      "source": [
        "### solving model like a typical regression problem without any considerations and feature engineering\n",
        "\n",
        "# train and test data spliting\n",
        "train = temp_df[temp_df['day'] < 22]\n",
        "val = temp_df[temp_df['day'] >= 22]\n",
        "\n",
        "print(\"train_shape:\",train.shape)\n",
        "print(\"val_shape:\",val.shape)\n",
        "    \n",
        "X_train,X_test = train.drop(columns = ['online_hours','date']),val.drop(columns = ['online_hours','date'])\n",
        "y_train,y_test = train['online_hours'].values, val['online_hours'].values\n",
        "\n",
        "scaler = MinMaxScaler() #Normalize the data.\n",
        "\n",
        "X_train = scaler.fit_transform(X_train)\n",
        "X_test  = scaler.transform(X_test)\n",
        "## appending all the regressors\n",
        "\n",
        "regressors = []\n",
        "\n",
        "regressors.append(LinearRegression())\n",
        "regressors.append(Lasso(alpha = 0.0005,max_iter = 1000))\n",
        "regressors.append(RandomForestRegressor(n_estimators = 1000,max_depth=15))\n",
        "regressors.append(AdaBoostRegressor())\n",
        "regressors.append(GradientBoostingRegressor())\n",
        "regressors.append(XGBRegressor(n_estimators = 1000,importance_type = 'gain'))\n",
        "regressors.append(LGBMRegressor(n_estimators = 1000, objective ='regression',\n",
        "                                importance_type = 'gain'))\n",
        "\n",
        "\n",
        "import time\n",
        "\n",
        "print('Working on base models and fitting begains.....')\n",
        "\n",
        "\n",
        "\n",
        "baseline_models= clone(regressors)\n",
        "algo = ['LinearRegression','Lasso', 'RandomForestRegressor' ,'AdaBoostRegressor',\n",
        "                                          'GradientBoostingRegressor', 'XGBRegressor','LGBMRegressor']\n",
        "rmse_list = []\n",
        "for idx, reg in enumerate(baseline_models):\n",
        "    t = time.time()\n",
        "    print('Fitting of {} Model'.format(algo[idx]))\n",
        "    print('Parameters of the model are: {}'. format(reg.get_params()))\n",
        "    \n",
        "    model = reg\n",
        "    model.fit(X_train,y_train)\n",
        "    preds = model.predict(X_test)\n",
        "    rmse = mean_squared_error(y_test,preds,squared = False)\n",
        "\n",
        "    print('time elapsed is : {} sec'.format(round((time.time() - t),2)))\n",
        "    print('\\n\\n\\n*****************************\\n\\n\\n')\n",
        "    rmse_list.append(rmse)\n",
        "\n",
        "baseline = pd.DataFrame({'rmse':rmse_list,\n",
        "                      \"Algorithm\":['LinearRegression','Lasso', 'RandomForestRegressor' ,'AdaBoostRegressor',\n",
        "                                          'GradientBoostingRegressor', 'XGBRegressor','LGBMRegressor']})"
      ],
      "execution_count": 73,
      "outputs": [
        {
          "output_type": "stream",
          "text": [
            "train_shape: (52143, 11)\n",
            "val_shape: (17542, 11)\n",
            "Working on base models and fitting begains.....\n",
            "Fitting of LinearRegression Model\n",
            "Parameters of the model are: {'copy_X': True, 'fit_intercept': True, 'n_jobs': None, 'normalize': False}\n",
            "time elapsed is : 0.02 sec\n",
            "\n",
            "\n",
            "\n",
            "*****************************\n",
            "\n",
            "\n",
            "\n",
            "Fitting of Lasso Model\n",
            "Parameters of the model are: {'alpha': 0.0005, 'copy_X': True, 'fit_intercept': True, 'max_iter': 1000, 'normalize': False, 'positive': False, 'precompute': False, 'random_state': None, 'selection': 'cyclic', 'tol': 0.0001, 'warm_start': False}\n",
            "time elapsed is : 0.01 sec\n",
            "\n",
            "\n",
            "\n",
            "*****************************\n",
            "\n",
            "\n",
            "\n",
            "Fitting of RandomForestRegressor Model\n",
            "Parameters of the model are: {'bootstrap': True, 'ccp_alpha': 0.0, 'criterion': 'mse', 'max_depth': 15, 'max_features': 'auto', 'max_leaf_nodes': None, 'max_samples': None, 'min_impurity_decrease': 0.0, 'min_impurity_split': None, 'min_samples_leaf': 1, 'min_samples_split': 2, 'min_weight_fraction_leaf': 0.0, 'n_estimators': 1000, 'n_jobs': None, 'oob_score': False, 'random_state': None, 'verbose': 0, 'warm_start': False}\n",
            "time elapsed is : 96.3 sec\n",
            "\n",
            "\n",
            "\n",
            "*****************************\n",
            "\n",
            "\n",
            "\n",
            "Fitting of AdaBoostRegressor Model\n",
            "Parameters of the model are: {'base_estimator': None, 'learning_rate': 1.0, 'loss': 'linear', 'n_estimators': 50, 'random_state': None}\n",
            "time elapsed is : 0.66 sec\n",
            "\n",
            "\n",
            "\n",
            "*****************************\n",
            "\n",
            "\n",
            "\n",
            "Fitting of GradientBoostingRegressor Model\n",
            "Parameters of the model are: {'alpha': 0.9, 'ccp_alpha': 0.0, 'criterion': 'friedman_mse', 'init': None, 'learning_rate': 0.1, 'loss': 'ls', 'max_depth': 3, 'max_features': None, 'max_leaf_nodes': None, 'min_impurity_decrease': 0.0, 'min_impurity_split': None, 'min_samples_leaf': 1, 'min_samples_split': 2, 'min_weight_fraction_leaf': 0.0, 'n_estimators': 100, 'n_iter_no_change': None, 'presort': 'deprecated', 'random_state': None, 'subsample': 1.0, 'tol': 0.0001, 'validation_fraction': 0.1, 'verbose': 0, 'warm_start': False}\n",
            "time elapsed is : 3.73 sec\n",
            "\n",
            "\n",
            "\n",
            "*****************************\n",
            "\n",
            "\n",
            "\n",
            "Fitting of XGBRegressor Model\n",
            "Parameters of the model are: {'base_score': 0.5, 'booster': 'gbtree', 'colsample_bylevel': 1, 'colsample_bynode': 1, 'colsample_bytree': 1, 'gamma': 0, 'importance_type': 'gain', 'learning_rate': 0.1, 'max_delta_step': 0, 'max_depth': 3, 'min_child_weight': 1, 'missing': None, 'n_estimators': 1000, 'n_jobs': 1, 'nthread': None, 'objective': 'reg:linear', 'random_state': 0, 'reg_alpha': 0, 'reg_lambda': 1, 'scale_pos_weight': 1, 'seed': None, 'silent': None, 'subsample': 1, 'verbosity': 1}\n",
            "[06:25:31] WARNING: /workspace/src/objective/regression_obj.cu:152: reg:linear is now deprecated in favor of reg:squarederror.\n",
            "time elapsed is : 19.49 sec\n",
            "\n",
            "\n",
            "\n",
            "*****************************\n",
            "\n",
            "\n",
            "\n",
            "Fitting of LGBMRegressor Model\n",
            "Parameters of the model are: {'boosting_type': 'gbdt', 'class_weight': None, 'colsample_bytree': 1.0, 'importance_type': 'gain', 'learning_rate': 0.1, 'max_depth': -1, 'min_child_samples': 20, 'min_child_weight': 0.001, 'min_split_gain': 0.0, 'n_estimators': 1000, 'n_jobs': -1, 'num_leaves': 31, 'objective': 'regression', 'random_state': None, 'reg_alpha': 0.0, 'reg_lambda': 0.0, 'silent': True, 'subsample': 1.0, 'subsample_for_bin': 200000, 'subsample_freq': 0}\n",
            "time elapsed is : 3.16 sec\n",
            "\n",
            "\n",
            "\n",
            "*****************************\n",
            "\n",
            "\n",
            "\n"
          ],
          "name": "stdout"
        }
      ]
    },
    {
      "cell_type": "code",
      "metadata": {
        "colab": {
          "base_uri": "https://localhost:8080/",
          "height": 266
        },
        "id": "2Pv4GkoA6yMQ",
        "outputId": "df44fccf-b44a-42ca-ee9d-b245832688d7"
      },
      "source": [
        "baseline"
      ],
      "execution_count": 74,
      "outputs": [
        {
          "output_type": "execute_result",
          "data": {
            "text/html": [
              "<div>\n",
              "<style scoped>\n",
              "    .dataframe tbody tr th:only-of-type {\n",
              "        vertical-align: middle;\n",
              "    }\n",
              "\n",
              "    .dataframe tbody tr th {\n",
              "        vertical-align: top;\n",
              "    }\n",
              "\n",
              "    .dataframe thead th {\n",
              "        text-align: right;\n",
              "    }\n",
              "</style>\n",
              "<table border=\"1\" class=\"dataframe\">\n",
              "  <thead>\n",
              "    <tr style=\"text-align: right;\">\n",
              "      <th></th>\n",
              "      <th>rmse</th>\n",
              "      <th>Algorithm</th>\n",
              "    </tr>\n",
              "  </thead>\n",
              "  <tbody>\n",
              "    <tr>\n",
              "      <th>0</th>\n",
              "      <td>3.227856</td>\n",
              "      <td>LinearRegression</td>\n",
              "    </tr>\n",
              "    <tr>\n",
              "      <th>1</th>\n",
              "      <td>3.227618</td>\n",
              "      <td>Lasso</td>\n",
              "    </tr>\n",
              "    <tr>\n",
              "      <th>2</th>\n",
              "      <td>2.472557</td>\n",
              "      <td>RandomForestRegressor</td>\n",
              "    </tr>\n",
              "    <tr>\n",
              "      <th>3</th>\n",
              "      <td>3.165607</td>\n",
              "      <td>AdaBoostRegressor</td>\n",
              "    </tr>\n",
              "    <tr>\n",
              "      <th>4</th>\n",
              "      <td>3.081979</td>\n",
              "      <td>GradientBoostingRegressor</td>\n",
              "    </tr>\n",
              "    <tr>\n",
              "      <th>5</th>\n",
              "      <td>2.758674</td>\n",
              "      <td>XGBRegressor</td>\n",
              "    </tr>\n",
              "    <tr>\n",
              "      <th>6</th>\n",
              "      <td>2.390156</td>\n",
              "      <td>LGBMRegressor</td>\n",
              "    </tr>\n",
              "  </tbody>\n",
              "</table>\n",
              "</div>"
            ],
            "text/plain": [
              "       rmse                  Algorithm\n",
              "0  3.227856           LinearRegression\n",
              "1  3.227618                      Lasso\n",
              "2  2.472557      RandomForestRegressor\n",
              "3  3.165607          AdaBoostRegressor\n",
              "4  3.081979  GradientBoostingRegressor\n",
              "5  2.758674               XGBRegressor\n",
              "6  2.390156              LGBMRegressor"
            ]
          },
          "metadata": {
            "tags": []
          },
          "execution_count": 74
        }
      ]
    },
    {
      "cell_type": "markdown",
      "metadata": {
        "id": "ogMSRGm09KKG"
      },
      "source": [
        "here we can see that the LGBMRegressor is giving least RMSE score."
      ]
    },
    {
      "cell_type": "code",
      "metadata": {
        "colab": {
          "base_uri": "https://localhost:8080/",
          "height": 669
        },
        "id": "-yaM-8wPGaH0",
        "outputId": "8d01a690-e787-4f75-cde6-385aa0108902"
      },
      "source": [
        "error = pd.DataFrame({\n",
        "    \"date\":val.date,\n",
        "    \"id\":val.driver_id,\n",
        "    \"actual_online_hours\":y_test.tolist(),\n",
        "    \"pred\":preds\n",
        "}).reset_index(drop = True)\n",
        "\n",
        "error[\"error\"] = np.abs(error.actual_online_hours-error.pred)\n",
        "\n",
        "error.sort_values(\"error\").head(20)"
      ],
      "execution_count": 80,
      "outputs": [
        {
          "output_type": "execute_result",
          "data": {
            "text/html": [
              "<div>\n",
              "<style scoped>\n",
              "    .dataframe tbody tr th:only-of-type {\n",
              "        vertical-align: middle;\n",
              "    }\n",
              "\n",
              "    .dataframe tbody tr th {\n",
              "        vertical-align: top;\n",
              "    }\n",
              "\n",
              "    .dataframe thead th {\n",
              "        text-align: right;\n",
              "    }\n",
              "</style>\n",
              "<table border=\"1\" class=\"dataframe\">\n",
              "  <thead>\n",
              "    <tr style=\"text-align: right;\">\n",
              "      <th></th>\n",
              "      <th>date</th>\n",
              "      <th>id</th>\n",
              "      <th>actual_online_hours</th>\n",
              "      <th>pred</th>\n",
              "      <th>error</th>\n",
              "    </tr>\n",
              "  </thead>\n",
              "  <tbody>\n",
              "    <tr>\n",
              "      <th>4298</th>\n",
              "      <td>2017-06-22</td>\n",
              "      <td>340766</td>\n",
              "      <td>3.0</td>\n",
              "      <td>2.999956</td>\n",
              "      <td>0.000044</td>\n",
              "    </tr>\n",
              "    <tr>\n",
              "      <th>6227</th>\n",
              "      <td>2017-06-26</td>\n",
              "      <td>431542</td>\n",
              "      <td>6.0</td>\n",
              "      <td>5.999745</td>\n",
              "      <td>0.000255</td>\n",
              "    </tr>\n",
              "    <tr>\n",
              "      <th>2187</th>\n",
              "      <td>2017-06-25</td>\n",
              "      <td>233165</td>\n",
              "      <td>0.0</td>\n",
              "      <td>-0.000634</td>\n",
              "      <td>0.000634</td>\n",
              "    </tr>\n",
              "    <tr>\n",
              "      <th>1746</th>\n",
              "      <td>2017-06-25</td>\n",
              "      <td>211582</td>\n",
              "      <td>6.0</td>\n",
              "      <td>5.999270</td>\n",
              "      <td>0.000730</td>\n",
              "    </tr>\n",
              "    <tr>\n",
              "      <th>8816</th>\n",
              "      <td>2017-06-25</td>\n",
              "      <td>566319</td>\n",
              "      <td>0.0</td>\n",
              "      <td>0.000873</td>\n",
              "      <td>0.000873</td>\n",
              "    </tr>\n",
              "    <tr>\n",
              "      <th>10708</th>\n",
              "      <td>2017-06-27</td>\n",
              "      <td>661584</td>\n",
              "      <td>4.0</td>\n",
              "      <td>4.001477</td>\n",
              "      <td>0.001477</td>\n",
              "    </tr>\n",
              "    <tr>\n",
              "      <th>10254</th>\n",
              "      <td>2017-06-28</td>\n",
              "      <td>640016</td>\n",
              "      <td>3.0</td>\n",
              "      <td>2.998307</td>\n",
              "      <td>0.001693</td>\n",
              "    </tr>\n",
              "    <tr>\n",
              "      <th>7218</th>\n",
              "      <td>2017-06-23</td>\n",
              "      <td>484883</td>\n",
              "      <td>3.0</td>\n",
              "      <td>3.001908</td>\n",
              "      <td>0.001908</td>\n",
              "    </tr>\n",
              "    <tr>\n",
              "      <th>9241</th>\n",
              "      <td>2017-06-23</td>\n",
              "      <td>584814</td>\n",
              "      <td>4.0</td>\n",
              "      <td>3.997746</td>\n",
              "      <td>0.002254</td>\n",
              "    </tr>\n",
              "    <tr>\n",
              "      <th>17108</th>\n",
              "      <td>2017-06-22</td>\n",
              "      <td>985724</td>\n",
              "      <td>4.0</td>\n",
              "      <td>3.997541</td>\n",
              "      <td>0.002459</td>\n",
              "    </tr>\n",
              "    <tr>\n",
              "      <th>9041</th>\n",
              "      <td>2017-06-26</td>\n",
              "      <td>574771</td>\n",
              "      <td>3.0</td>\n",
              "      <td>3.002553</td>\n",
              "      <td>0.002553</td>\n",
              "    </tr>\n",
              "    <tr>\n",
              "      <th>144</th>\n",
              "      <td>2017-06-26</td>\n",
              "      <td>119624</td>\n",
              "      <td>8.0</td>\n",
              "      <td>8.003022</td>\n",
              "      <td>0.003022</td>\n",
              "    </tr>\n",
              "    <tr>\n",
              "      <th>12820</th>\n",
              "      <td>2017-06-25</td>\n",
              "      <td>777870</td>\n",
              "      <td>8.0</td>\n",
              "      <td>7.996977</td>\n",
              "      <td>0.003023</td>\n",
              "    </tr>\n",
              "    <tr>\n",
              "      <th>16556</th>\n",
              "      <td>2017-06-23</td>\n",
              "      <td>956188</td>\n",
              "      <td>6.0</td>\n",
              "      <td>6.003292</td>\n",
              "      <td>0.003292</td>\n",
              "    </tr>\n",
              "    <tr>\n",
              "      <th>13877</th>\n",
              "      <td>2017-06-25</td>\n",
              "      <td>826871</td>\n",
              "      <td>0.0</td>\n",
              "      <td>-0.003486</td>\n",
              "      <td>0.003486</td>\n",
              "    </tr>\n",
              "    <tr>\n",
              "      <th>4549</th>\n",
              "      <td>2017-06-28</td>\n",
              "      <td>348057</td>\n",
              "      <td>3.0</td>\n",
              "      <td>2.996097</td>\n",
              "      <td>0.003903</td>\n",
              "    </tr>\n",
              "    <tr>\n",
              "      <th>9497</th>\n",
              "      <td>2017-06-27</td>\n",
              "      <td>601288</td>\n",
              "      <td>3.0</td>\n",
              "      <td>3.004160</td>\n",
              "      <td>0.004160</td>\n",
              "    </tr>\n",
              "    <tr>\n",
              "      <th>12320</th>\n",
              "      <td>2017-06-22</td>\n",
              "      <td>746847</td>\n",
              "      <td>3.0</td>\n",
              "      <td>2.995719</td>\n",
              "      <td>0.004281</td>\n",
              "    </tr>\n",
              "    <tr>\n",
              "      <th>5540</th>\n",
              "      <td>2017-06-25</td>\n",
              "      <td>393036</td>\n",
              "      <td>6.0</td>\n",
              "      <td>5.995343</td>\n",
              "      <td>0.004657</td>\n",
              "    </tr>\n",
              "    <tr>\n",
              "      <th>4896</th>\n",
              "      <td>2017-06-25</td>\n",
              "      <td>364584</td>\n",
              "      <td>0.0</td>\n",
              "      <td>0.004677</td>\n",
              "      <td>0.004677</td>\n",
              "    </tr>\n",
              "  </tbody>\n",
              "</table>\n",
              "</div>"
            ],
            "text/plain": [
              "            date      id  actual_online_hours      pred     error\n",
              "4298  2017-06-22  340766                  3.0  2.999956  0.000044\n",
              "6227  2017-06-26  431542                  6.0  5.999745  0.000255\n",
              "2187  2017-06-25  233165                  0.0 -0.000634  0.000634\n",
              "1746  2017-06-25  211582                  6.0  5.999270  0.000730\n",
              "8816  2017-06-25  566319                  0.0  0.000873  0.000873\n",
              "10708 2017-06-27  661584                  4.0  4.001477  0.001477\n",
              "10254 2017-06-28  640016                  3.0  2.998307  0.001693\n",
              "7218  2017-06-23  484883                  3.0  3.001908  0.001908\n",
              "9241  2017-06-23  584814                  4.0  3.997746  0.002254\n",
              "17108 2017-06-22  985724                  4.0  3.997541  0.002459\n",
              "9041  2017-06-26  574771                  3.0  3.002553  0.002553\n",
              "144   2017-06-26  119624                  8.0  8.003022  0.003022\n",
              "12820 2017-06-25  777870                  8.0  7.996977  0.003023\n",
              "16556 2017-06-23  956188                  6.0  6.003292  0.003292\n",
              "13877 2017-06-25  826871                  0.0 -0.003486  0.003486\n",
              "4549  2017-06-28  348057                  3.0  2.996097  0.003903\n",
              "9497  2017-06-27  601288                  3.0  3.004160  0.004160\n",
              "12320 2017-06-22  746847                  3.0  2.995719  0.004281\n",
              "5540  2017-06-25  393036                  6.0  5.995343  0.004657\n",
              "4896  2017-06-25  364584                  0.0  0.004677  0.004677"
            ]
          },
          "metadata": {
            "tags": []
          },
          "execution_count": 80
        }
      ]
    },
    {
      "cell_type": "code",
      "metadata": {
        "colab": {
          "base_uri": "https://localhost:8080/",
          "height": 0
        },
        "id": "OXHfUxIFdpIA",
        "outputId": "0047342a-3d52-4bc8-f8d2-d0812e761bbb"
      },
      "source": [
        "# Feature Engineering\n",
        "def datetime_features(data):\n",
        "    data['date'] = pd.to_datetime(data['date'])\n",
        "    data['month'] = data.date.dt.month\n",
        "    data['day_of_month'] = data.date.dt.day\n",
        "    data['day_of_year'] = data.date.dt.dayofyear\n",
        "    data['week_of_year'] = data.date.dt.weekofyear\n",
        "    data['day_of_week'] = data.date.dt.dayofweek + 1\n",
        "    data['year'] = data.date.dt.year\n",
        "    data[\"is_wknd\"] = data.date.dt.weekday // 4\n",
        "    data[\"quarter\"] = data.date.dt.quarter\n",
        "    data['is_month_start'] = data.date.dt.is_month_start.astype(int)\n",
        "    data['is_month_end'] = data.date.dt.is_month_end.astype(int)\n",
        "    data['is_quarter_start'] = data.date.dt.is_quarter_start.astype(int)\n",
        "    data['is_quarter_end'] = data.date.dt.is_quarter_end.astype(int)\n",
        "    data['is_year_start'] = data.date.dt.is_year_start.astype(int)\n",
        "    data['is_year_end'] = data.date.dt.is_year_end.astype(int)\n",
        "    \n",
        "    week_names = {'Sunday':0,'Monday':1,'Tuesday':2,'Wednesday':3, 'Thursday':4,'Friday':5,'Saturday':6}\n",
        "    month_names = {'January':0, 'February':1,'March':2,'April':3,'May':4,'June':5,'July':6,\n",
        "                'August':7, 'September':8,'October':9,'November':10,'December':11}\n",
        "    \n",
        "    return data\n",
        "\n",
        "\n",
        "def rolling_window_mean(data):\n",
        "    # 7 day rolling window mean\n",
        "    for i in [1,2,3,4,5,6,7,8,9,10,11,12,13,14,15,61,17,18,19,20,21]:\n",
        "        data[\"onlinehours_roll_mean_\"+str(i)] = data.groupby([\"driver_id\"])['online_hours'].rolling(i).mean().shift(1).values\n",
        "    #data.fillna(0,inplace = True)\n",
        "    return data\n",
        "\n",
        "def lag_features(data,lags = [1,2,3,4,5,6,7,8,9,10,11,12,13,14,15,61,17,18,19,20,21]):\n",
        "    data.sort_values(by=['driver_id','date'], axis=0, inplace=True)\n",
        "    data = data.copy()\n",
        "    for lag in lags:\n",
        "        data['last_day_onlinehours'+str(lag)] = data.groupby('driver_id')['online_hours'].transform(lambda x: x.shift(lag))\n",
        "        data['last_day_hours_diff' +str(lag)] = data.groupby('driver_id')['last_day_onlinehours'+str(lag)].transform(lambda x: x.diff())\n",
        "        #dataframe.fillna(0,inplace = True)\n",
        "    return data\n",
        "def preprocessing_traindata(df):\n",
        "    data = df.copy()\n",
        "    data = datetime_features(data)\n",
        "    data = rolling_window_mean(data)\n",
        "    data = lag_features(data)\n",
        "    return data\n",
        "\n",
        "df_copy  = preprocessing_traindata(df)\n",
        "df_copy_backup = df.copy()\n",
        "\n",
        "df_copy = pd.merge(left = df_copy,right = driver_df,on = \"driver_id\",how = \"left\")\n",
        "\n",
        "df_copy[\"gender\"] = df_copy[\"gender\"].replace({\"MALE\":1,\"FEMALE\":0})\n",
        "train_final = df_copy[df_copy['day_of_month'] < 22]\n",
        "test_final = df_copy[df_copy['day_of_month'] >= 22]\n",
        "print('\\n'+'*'*15 + 'Shapes of Final Data ' + '*'*15+'\\n' )\n",
        "\n",
        "print('Shape of the Train Data: {}'.format(train_final.shape))\n",
        "print('Shape of the Test Data: {}'.format(test_final.shape))\n",
        "\n",
        "\n",
        "print('\\n'+'*'*50 + '\\n')\n"
      ],
      "execution_count": 114,
      "outputs": [
        {
          "output_type": "stream",
          "text": [
            "/usr/local/lib/python3.7/dist-packages/ipykernel_launcher.py:6: FutureWarning: Series.dt.weekofyear and Series.dt.week have been deprecated.  Please use Series.dt.isocalendar().week instead.\n",
            "  \n"
          ],
          "name": "stderr"
        },
        {
          "output_type": "stream",
          "text": [
            "\n",
            "***************Shapes of Final Data ***************\n",
            "\n",
            "Shape of the Train Data: (52143, 83)\n",
            "Shape of the Test Data: (17542, 83)\n",
            "\n",
            "**************************************************\n",
            "\n"
          ],
          "name": "stdout"
        }
      ]
    },
    {
      "cell_type": "code",
      "metadata": {
        "colab": {
          "base_uri": "https://localhost:8080/",
          "height": 0
        },
        "id": "Hcr8U3Qremfw",
        "outputId": "ca05fd0d-ec8c-47c9-a1a8-dc3299a01be8"
      },
      "source": [
        "errors = []\n",
        "for day in range(15,21):\n",
        "    \n",
        "    train = train_final[train_final['day_of_month'] < day]\n",
        "    valid = train_final[train_final['day_of_month'] == day]\n",
        "    \n",
        "    xtrain,xtest = train.drop(columns = ['online_hours','date']),valid.drop(columns = ['online_hours','date'])\n",
        "    ytrain,ytest = train['online_hours'].values, valid['online_hours'].values\n",
        "    \n",
        "    model = LGBMRegressor(n_estimators = 1000)\n",
        "    model.fit(xtrain,ytrain)\n",
        "    preds = model.predict(xtest)\n",
        "    \n",
        "    score = mean_squared_error(valid['online_hours'].values,preds,squared = False)\n",
        "    print('Trained upto Day %d and RMSE for %d day Prediction is %.5f' % (day, day+1,score))\n",
        "    errors.append(score)\n",
        "\n",
        "print('\\n' +'*'*20  +'Final Mean RMSE Score'+'*'*20 + '\\n')\n",
        "print('                  Mean RMSE Score:    %.5f' % np.mean(errors))\n",
        "print('\\n' +'*'*61 + '\\n')"
      ],
      "execution_count": 115,
      "outputs": [
        {
          "output_type": "stream",
          "text": [
            "Trained upto Day 15 and RMSE for 16 day Prediction is 2.20878\n",
            "Trained upto Day 16 and RMSE for 17 day Prediction is 2.06280\n",
            "Trained upto Day 17 and RMSE for 18 day Prediction is 1.91828\n",
            "Trained upto Day 18 and RMSE for 19 day Prediction is 1.69884\n",
            "Trained upto Day 19 and RMSE for 20 day Prediction is 2.09313\n",
            "Trained upto Day 20 and RMSE for 21 day Prediction is 2.02779\n",
            "\n",
            "********************Final Mean RMSE Score********************\n",
            "\n",
            "                  Mean RMSE Score:    2.00160\n",
            "\n",
            "*************************************************************\n",
            "\n"
          ],
          "name": "stdout"
        }
      ]
    },
    {
      "cell_type": "code",
      "metadata": {
        "colab": {
          "base_uri": "https://localhost:8080/",
          "height": 0
        },
        "id": "OLoCLABukslu",
        "outputId": "f2b17ef9-eede-46c0-ad59-077e8290c7de"
      },
      "source": [
        "train = df_copy[df_copy['day_of_month'] < 22]\n",
        "test = df_copy[df_copy['day_of_month'] >= 22]\n",
        "\n",
        "\n",
        "xtrain,xtest = train.drop(columns = ['date','online_hours']),test.drop(columns = ['date','online_hours'])\n",
        "ytrain,ytest = train['online_hours'].values, test['online_hours'].values\n",
        "\n",
        "xtrain = scaler.fit_transform(xtrain)\n",
        "xtest = scaler.transform(xtest)\n",
        "\n",
        "model = LGBMRegressor(n_estimators = 1000)\n",
        "model.fit(xtrain,ytrain)\n",
        "preds = model.predict(xtest)\n",
        "    \n",
        "score = mean_squared_error(test.online_hours.tolist(),preds,squared=False)\n",
        "\n",
        "print('\\n' +'*'*20  +'Baseline Model RMSE Score'+'*'*20 + '\\n')\n",
        "print('                 RMSE Score:    %.5f' % score)\n",
        "print('\\n' +'*'*61 + '\\n')"
      ],
      "execution_count": 117,
      "outputs": [
        {
          "output_type": "stream",
          "text": [
            "\n",
            "********************Baseline Model RMSE Score********************\n",
            "\n",
            "                 RMSE Score:    1.90683\n",
            "\n",
            "*************************************************************\n",
            "\n"
          ],
          "name": "stdout"
        }
      ]
    },
    {
      "cell_type": "code",
      "metadata": {
        "colab": {
          "base_uri": "https://localhost:8080/",
          "height": 669
        },
        "id": "HfOY2CUXs33k",
        "outputId": "0769ebe8-9c5f-4061-ed28-b25e870f5c9f"
      },
      "source": [
        "error = pd.DataFrame({\n",
        "    \"date\":test.date,\n",
        "    \"id\":test.driver_id,\n",
        "    \"actual_online_hours\":test.online_hours.tolist(),\n",
        "    \"pred\":preds\n",
        "}).reset_index(drop = True)\n",
        "\n",
        "error[\"error\"] = np.abs(error.actual_online_hours-error.pred)\n",
        "\n",
        "error.sort_values(\"error\").head(20)"
      ],
      "execution_count": 119,
      "outputs": [
        {
          "output_type": "execute_result",
          "data": {
            "text/html": [
              "<div>\n",
              "<style scoped>\n",
              "    .dataframe tbody tr th:only-of-type {\n",
              "        vertical-align: middle;\n",
              "    }\n",
              "\n",
              "    .dataframe tbody tr th {\n",
              "        vertical-align: top;\n",
              "    }\n",
              "\n",
              "    .dataframe thead th {\n",
              "        text-align: right;\n",
              "    }\n",
              "</style>\n",
              "<table border=\"1\" class=\"dataframe\">\n",
              "  <thead>\n",
              "    <tr style=\"text-align: right;\">\n",
              "      <th></th>\n",
              "      <th>date</th>\n",
              "      <th>id</th>\n",
              "      <th>actual_online_hours</th>\n",
              "      <th>pred</th>\n",
              "      <th>error</th>\n",
              "    </tr>\n",
              "  </thead>\n",
              "  <tbody>\n",
              "    <tr>\n",
              "      <th>415</th>\n",
              "      <td>2017-06-24</td>\n",
              "      <td>133172</td>\n",
              "      <td>0.0</td>\n",
              "      <td>-0.000030</td>\n",
              "      <td>0.000030</td>\n",
              "    </tr>\n",
              "    <tr>\n",
              "      <th>73</th>\n",
              "      <td>2017-06-25</td>\n",
              "      <td>114890</td>\n",
              "      <td>0.0</td>\n",
              "      <td>-0.000275</td>\n",
              "      <td>0.000275</td>\n",
              "    </tr>\n",
              "    <tr>\n",
              "      <th>8860</th>\n",
              "      <td>2017-06-27</td>\n",
              "      <td>566447</td>\n",
              "      <td>6.0</td>\n",
              "      <td>5.999657</td>\n",
              "      <td>0.000343</td>\n",
              "    </tr>\n",
              "    <tr>\n",
              "      <th>2726</th>\n",
              "      <td>2017-06-25</td>\n",
              "      <td>258530</td>\n",
              "      <td>0.0</td>\n",
              "      <td>-0.000359</td>\n",
              "      <td>0.000359</td>\n",
              "    </tr>\n",
              "    <tr>\n",
              "      <th>14465</th>\n",
              "      <td>2017-06-25</td>\n",
              "      <td>852338</td>\n",
              "      <td>0.0</td>\n",
              "      <td>-0.000365</td>\n",
              "      <td>0.000365</td>\n",
              "    </tr>\n",
              "    <tr>\n",
              "      <th>6338</th>\n",
              "      <td>2017-06-25</td>\n",
              "      <td>437893</td>\n",
              "      <td>8.0</td>\n",
              "      <td>8.000454</td>\n",
              "      <td>0.000454</td>\n",
              "    </tr>\n",
              "    <tr>\n",
              "      <th>9737</th>\n",
              "      <td>2017-06-22</td>\n",
              "      <td>614442</td>\n",
              "      <td>5.0</td>\n",
              "      <td>4.998987</td>\n",
              "      <td>0.001013</td>\n",
              "    </tr>\n",
              "    <tr>\n",
              "      <th>7987</th>\n",
              "      <td>2017-06-22</td>\n",
              "      <td>525604</td>\n",
              "      <td>3.0</td>\n",
              "      <td>3.001197</td>\n",
              "      <td>0.001197</td>\n",
              "    </tr>\n",
              "    <tr>\n",
              "      <th>14654</th>\n",
              "      <td>2017-06-25</td>\n",
              "      <td>863345</td>\n",
              "      <td>7.0</td>\n",
              "      <td>7.001330</td>\n",
              "      <td>0.001330</td>\n",
              "    </tr>\n",
              "    <tr>\n",
              "      <th>5216</th>\n",
              "      <td>2017-06-23</td>\n",
              "      <td>378731</td>\n",
              "      <td>6.0</td>\n",
              "      <td>5.998623</td>\n",
              "      <td>0.001377</td>\n",
              "    </tr>\n",
              "    <tr>\n",
              "      <th>15045</th>\n",
              "      <td>2017-06-24</td>\n",
              "      <td>882676</td>\n",
              "      <td>0.0</td>\n",
              "      <td>-0.001454</td>\n",
              "      <td>0.001454</td>\n",
              "    </tr>\n",
              "    <tr>\n",
              "      <th>11965</th>\n",
              "      <td>2017-06-24</td>\n",
              "      <td>730697</td>\n",
              "      <td>0.0</td>\n",
              "      <td>0.001459</td>\n",
              "      <td>0.001459</td>\n",
              "    </tr>\n",
              "    <tr>\n",
              "      <th>7244</th>\n",
              "      <td>2017-06-28</td>\n",
              "      <td>484883</td>\n",
              "      <td>2.0</td>\n",
              "      <td>2.001622</td>\n",
              "      <td>0.001622</td>\n",
              "    </tr>\n",
              "    <tr>\n",
              "      <th>706</th>\n",
              "      <td>2017-06-28</td>\n",
              "      <td>151806</td>\n",
              "      <td>7.0</td>\n",
              "      <td>7.001800</td>\n",
              "      <td>0.001800</td>\n",
              "    </tr>\n",
              "    <tr>\n",
              "      <th>7412</th>\n",
              "      <td>2017-06-28</td>\n",
              "      <td>493432</td>\n",
              "      <td>6.0</td>\n",
              "      <td>5.998196</td>\n",
              "      <td>0.001804</td>\n",
              "    </tr>\n",
              "    <tr>\n",
              "      <th>7303</th>\n",
              "      <td>2017-06-24</td>\n",
              "      <td>488933</td>\n",
              "      <td>0.0</td>\n",
              "      <td>-0.001859</td>\n",
              "      <td>0.001859</td>\n",
              "    </tr>\n",
              "    <tr>\n",
              "      <th>15245</th>\n",
              "      <td>2017-06-28</td>\n",
              "      <td>889406</td>\n",
              "      <td>5.0</td>\n",
              "      <td>4.997924</td>\n",
              "      <td>0.002076</td>\n",
              "    </tr>\n",
              "    <tr>\n",
              "      <th>1836</th>\n",
              "      <td>2017-06-24</td>\n",
              "      <td>216311</td>\n",
              "      <td>0.0</td>\n",
              "      <td>-0.002123</td>\n",
              "      <td>0.002123</td>\n",
              "    </tr>\n",
              "    <tr>\n",
              "      <th>7631</th>\n",
              "      <td>2017-06-23</td>\n",
              "      <td>506793</td>\n",
              "      <td>6.0</td>\n",
              "      <td>5.997799</td>\n",
              "      <td>0.002201</td>\n",
              "    </tr>\n",
              "    <tr>\n",
              "      <th>11406</th>\n",
              "      <td>2017-06-25</td>\n",
              "      <td>696698</td>\n",
              "      <td>0.0</td>\n",
              "      <td>0.002493</td>\n",
              "      <td>0.002493</td>\n",
              "    </tr>\n",
              "  </tbody>\n",
              "</table>\n",
              "</div>"
            ],
            "text/plain": [
              "            date      id  actual_online_hours      pred     error\n",
              "415   2017-06-24  133172                  0.0 -0.000030  0.000030\n",
              "73    2017-06-25  114890                  0.0 -0.000275  0.000275\n",
              "8860  2017-06-27  566447                  6.0  5.999657  0.000343\n",
              "2726  2017-06-25  258530                  0.0 -0.000359  0.000359\n",
              "14465 2017-06-25  852338                  0.0 -0.000365  0.000365\n",
              "6338  2017-06-25  437893                  8.0  8.000454  0.000454\n",
              "9737  2017-06-22  614442                  5.0  4.998987  0.001013\n",
              "7987  2017-06-22  525604                  3.0  3.001197  0.001197\n",
              "14654 2017-06-25  863345                  7.0  7.001330  0.001330\n",
              "5216  2017-06-23  378731                  6.0  5.998623  0.001377\n",
              "15045 2017-06-24  882676                  0.0 -0.001454  0.001454\n",
              "11965 2017-06-24  730697                  0.0  0.001459  0.001459\n",
              "7244  2017-06-28  484883                  2.0  2.001622  0.001622\n",
              "706   2017-06-28  151806                  7.0  7.001800  0.001800\n",
              "7412  2017-06-28  493432                  6.0  5.998196  0.001804\n",
              "7303  2017-06-24  488933                  0.0 -0.001859  0.001859\n",
              "15245 2017-06-28  889406                  5.0  4.997924  0.002076\n",
              "1836  2017-06-24  216311                  0.0 -0.002123  0.002123\n",
              "7631  2017-06-23  506793                  6.0  5.997799  0.002201\n",
              "11406 2017-06-25  696698                  0.0  0.002493  0.002493"
            ]
          },
          "metadata": {
            "tags": []
          },
          "execution_count": 119
        }
      ]
    },
    {
      "cell_type": "code",
      "metadata": {
        "colab": {
          "base_uri": "https://localhost:8080/",
          "height": 0
        },
        "id": "2y6OTdGAtWrz",
        "outputId": "2039d9c6-5947-4867-9ba6-702cca0e5835"
      },
      "source": [
        "!pip install eli5"
      ],
      "execution_count": 128,
      "outputs": [
        {
          "output_type": "stream",
          "text": [
            "Collecting eli5\n",
            "\u001b[?25l  Downloading https://files.pythonhosted.org/packages/d1/54/04cab6e1c0ae535bec93f795d8403fdf6caf66fa5a6512263202dbb14ea6/eli5-0.11.0-py2.py3-none-any.whl (106kB)\n",
            "\r\u001b[K     |███                             | 10kB 13.6MB/s eta 0:00:01\r\u001b[K     |██████▏                         | 20kB 19.5MB/s eta 0:00:01\r\u001b[K     |█████████▎                      | 30kB 13.1MB/s eta 0:00:01\r\u001b[K     |████████████▍                   | 40kB 10.1MB/s eta 0:00:01\r\u001b[K     |███████████████▌                | 51kB 4.8MB/s eta 0:00:01\r\u001b[K     |██████████████████▌             | 61kB 5.5MB/s eta 0:00:01\r\u001b[K     |█████████████████████▋          | 71kB 5.5MB/s eta 0:00:01\r\u001b[K     |████████████████████████▊       | 81kB 5.6MB/s eta 0:00:01\r\u001b[K     |███████████████████████████▉    | 92kB 5.8MB/s eta 0:00:01\r\u001b[K     |███████████████████████████████ | 102kB 5.0MB/s eta 0:00:01\r\u001b[K     |████████████████████████████████| 112kB 5.0MB/s \n",
            "\u001b[?25hRequirement already satisfied: attrs>16.0.0 in /usr/local/lib/python3.7/dist-packages (from eli5) (21.2.0)\n",
            "Requirement already satisfied: scipy in /usr/local/lib/python3.7/dist-packages (from eli5) (1.4.1)\n",
            "Requirement already satisfied: scikit-learn>=0.20 in /usr/local/lib/python3.7/dist-packages (from eli5) (0.22.2.post1)\n",
            "Requirement already satisfied: six in /usr/local/lib/python3.7/dist-packages (from eli5) (1.15.0)\n",
            "Requirement already satisfied: graphviz in /usr/local/lib/python3.7/dist-packages (from eli5) (0.10.1)\n",
            "Requirement already satisfied: tabulate>=0.7.7 in /usr/local/lib/python3.7/dist-packages (from eli5) (0.8.9)\n",
            "Requirement already satisfied: numpy>=1.9.0 in /usr/local/lib/python3.7/dist-packages (from eli5) (1.19.5)\n",
            "Requirement already satisfied: jinja2 in /usr/local/lib/python3.7/dist-packages (from eli5) (2.11.3)\n",
            "Requirement already satisfied: joblib>=0.11 in /usr/local/lib/python3.7/dist-packages (from scikit-learn>=0.20->eli5) (1.0.1)\n",
            "Requirement already satisfied: MarkupSafe>=0.23 in /usr/local/lib/python3.7/dist-packages (from jinja2->eli5) (2.0.1)\n",
            "Installing collected packages: eli5\n",
            "Successfully installed eli5-0.11.0\n"
          ],
          "name": "stdout"
        }
      ]
    },
    {
      "cell_type": "code",
      "metadata": {
        "colab": {
          "base_uri": "https://localhost:8080/",
          "height": 408
        },
        "id": "PNL1KLN1ngIW",
        "outputId": "84a91c95-5df9-44e1-f1b4-f149efd69cd3"
      },
      "source": [
        "#import shap\n",
        "import eli5\n",
        "from eli5.sklearn import PermutationImportance\n",
        "\n",
        "train = train_final[train_final['day_of_month'] < 16]\n",
        "valid = train_final[train_final['day_of_month'] >=16]\n",
        "    \n",
        "xtrain,xvalid = train.drop(columns = ['online_hours','date']),valid.drop(columns = ['online_hours','date'])\n",
        "ytrain,yvalid = train['online_hours'].values, valid['online_hours'].values\n",
        "\n",
        "model = LGBMRegressor().fit(xtrain,ytrain)\n",
        "\n",
        "perm = PermutationImportance(model,scoring='neg_root_mean_squared_error' ).fit(xvalid,yvalid)\n",
        "eli5_feature_importance = (pd.DataFrame({'Features':xtrain.columns.tolist(),'Importance':perm.feature_importances_})\n",
        "                           .sort_values(by = 'Importance'))\n",
        "\n",
        "print('Feature impact weights and importance for the given model:')\n",
        "eli5.show_weights(perm, feature_names = xtrain.columns.tolist())"
      ],
      "execution_count": 168,
      "outputs": [
        {
          "output_type": "stream",
          "text": [
            "Feature impact weights and importance for the given model:\n"
          ],
          "name": "stdout"
        },
        {
          "output_type": "execute_result",
          "data": {
            "text/html": [
              "\n",
              "    <style>\n",
              "    table.eli5-weights tr:hover {\n",
              "        filter: brightness(85%);\n",
              "    }\n",
              "</style>\n",
              "\n",
              "\n",
              "\n",
              "    \n",
              "\n",
              "    \n",
              "\n",
              "    \n",
              "\n",
              "    \n",
              "\n",
              "    \n",
              "\n",
              "    \n",
              "\n",
              "\n",
              "    \n",
              "\n",
              "    \n",
              "\n",
              "    \n",
              "\n",
              "    \n",
              "\n",
              "    \n",
              "\n",
              "    \n",
              "\n",
              "\n",
              "    \n",
              "\n",
              "    \n",
              "\n",
              "    \n",
              "\n",
              "    \n",
              "\n",
              "    \n",
              "        <table class=\"eli5-weights eli5-feature-importances\" style=\"border-collapse: collapse; border: none; margin-top: 0em; table-layout: auto;\">\n",
              "    <thead>\n",
              "    <tr style=\"border: none;\">\n",
              "        <th style=\"padding: 0 1em 0 0.5em; text-align: right; border: none;\">Weight</th>\n",
              "        <th style=\"padding: 0 0.5em 0 0.5em; text-align: left; border: none;\">Feature</th>\n",
              "    </tr>\n",
              "    </thead>\n",
              "    <tbody>\n",
              "    \n",
              "        <tr style=\"background-color: hsl(120, 100.00%, 80.00%); border: none;\">\n",
              "            <td style=\"padding: 0 1em 0 0.5em; text-align: right; border: none;\">\n",
              "                1.2313\n",
              "                \n",
              "                    &plusmn; 0.0089\n",
              "                \n",
              "            </td>\n",
              "            <td style=\"padding: 0 0.5em 0 0.5em; text-align: left; border: none;\">\n",
              "                last_day_onlinehours7\n",
              "            </td>\n",
              "        </tr>\n",
              "    \n",
              "        <tr style=\"background-color: hsl(120, 100.00%, 95.09%); border: none;\">\n",
              "            <td style=\"padding: 0 1em 0 0.5em; text-align: right; border: none;\">\n",
              "                0.1655\n",
              "                \n",
              "                    &plusmn; 0.0077\n",
              "                \n",
              "            </td>\n",
              "            <td style=\"padding: 0 0.5em 0 0.5em; text-align: left; border: none;\">\n",
              "                day_of_week\n",
              "            </td>\n",
              "        </tr>\n",
              "    \n",
              "        <tr style=\"background-color: hsl(120, 100.00%, 95.57%); border: none;\">\n",
              "            <td style=\"padding: 0 1em 0 0.5em; text-align: right; border: none;\">\n",
              "                0.1432\n",
              "                \n",
              "                    &plusmn; 0.0033\n",
              "                \n",
              "            </td>\n",
              "            <td style=\"padding: 0 0.5em 0 0.5em; text-align: left; border: none;\">\n",
              "                last_day_onlinehours14\n",
              "            </td>\n",
              "        </tr>\n",
              "    \n",
              "        <tr style=\"background-color: hsl(120, 100.00%, 96.58%); border: none;\">\n",
              "            <td style=\"padding: 0 1em 0 0.5em; text-align: right; border: none;\">\n",
              "                0.0986\n",
              "                \n",
              "                    &plusmn; 0.0068\n",
              "                \n",
              "            </td>\n",
              "            <td style=\"padding: 0 0.5em 0 0.5em; text-align: left; border: none;\">\n",
              "                last_day_onlinehours1\n",
              "            </td>\n",
              "        </tr>\n",
              "    \n",
              "        <tr style=\"background-color: hsl(120, 100.00%, 97.95%); border: none;\">\n",
              "            <td style=\"padding: 0 1em 0 0.5em; text-align: right; border: none;\">\n",
              "                0.0475\n",
              "                \n",
              "                    &plusmn; 0.0070\n",
              "                \n",
              "            </td>\n",
              "            <td style=\"padding: 0 0.5em 0 0.5em; text-align: left; border: none;\">\n",
              "                age\n",
              "            </td>\n",
              "        </tr>\n",
              "    \n",
              "        <tr style=\"background-color: hsl(120, 100.00%, 98.63%); border: none;\">\n",
              "            <td style=\"padding: 0 1em 0 0.5em; text-align: right; border: none;\">\n",
              "                0.0267\n",
              "                \n",
              "                    &plusmn; 0.0024\n",
              "                \n",
              "            </td>\n",
              "            <td style=\"padding: 0 0.5em 0 0.5em; text-align: left; border: none;\">\n",
              "                last_day_onlinehours6\n",
              "            </td>\n",
              "        </tr>\n",
              "    \n",
              "        <tr style=\"background-color: hsl(120, 100.00%, 98.75%); border: none;\">\n",
              "            <td style=\"padding: 0 1em 0 0.5em; text-align: right; border: none;\">\n",
              "                0.0235\n",
              "                \n",
              "                    &plusmn; 0.0047\n",
              "                \n",
              "            </td>\n",
              "            <td style=\"padding: 0 0.5em 0 0.5em; text-align: left; border: none;\">\n",
              "                last_day_onlinehours4\n",
              "            </td>\n",
              "        </tr>\n",
              "    \n",
              "        <tr style=\"background-color: hsl(120, 100.00%, 98.97%); border: none;\">\n",
              "            <td style=\"padding: 0 1em 0 0.5em; text-align: right; border: none;\">\n",
              "                0.0177\n",
              "                \n",
              "                    &plusmn; 0.0025\n",
              "                \n",
              "            </td>\n",
              "            <td style=\"padding: 0 0.5em 0 0.5em; text-align: left; border: none;\">\n",
              "                last_day_onlinehours3\n",
              "            </td>\n",
              "        </tr>\n",
              "    \n",
              "        <tr style=\"background-color: hsl(120, 100.00%, 99.11%); border: none;\">\n",
              "            <td style=\"padding: 0 1em 0 0.5em; text-align: right; border: none;\">\n",
              "                0.0144\n",
              "                \n",
              "                    &plusmn; 0.0022\n",
              "                \n",
              "            </td>\n",
              "            <td style=\"padding: 0 0.5em 0 0.5em; text-align: left; border: none;\">\n",
              "                gender\n",
              "            </td>\n",
              "        </tr>\n",
              "    \n",
              "        <tr style=\"background-color: hsl(120, 100.00%, 99.19%); border: none;\">\n",
              "            <td style=\"padding: 0 1em 0 0.5em; text-align: right; border: none;\">\n",
              "                0.0127\n",
              "                \n",
              "                    &plusmn; 0.0039\n",
              "                \n",
              "            </td>\n",
              "            <td style=\"padding: 0 0.5em 0 0.5em; text-align: left; border: none;\">\n",
              "                number_of_kids\n",
              "            </td>\n",
              "        </tr>\n",
              "    \n",
              "        <tr style=\"background-color: hsl(120, 100.00%, 99.24%); border: none;\">\n",
              "            <td style=\"padding: 0 1em 0 0.5em; text-align: right; border: none;\">\n",
              "                0.0114\n",
              "                \n",
              "                    &plusmn; 0.0028\n",
              "                \n",
              "            </td>\n",
              "            <td style=\"padding: 0 0.5em 0 0.5em; text-align: left; border: none;\">\n",
              "                last_day_onlinehours5\n",
              "            </td>\n",
              "        </tr>\n",
              "    \n",
              "        <tr style=\"background-color: hsl(120, 100.00%, 99.36%); border: none;\">\n",
              "            <td style=\"padding: 0 1em 0 0.5em; text-align: right; border: none;\">\n",
              "                0.0090\n",
              "                \n",
              "                    &plusmn; 0.0017\n",
              "                \n",
              "            </td>\n",
              "            <td style=\"padding: 0 0.5em 0 0.5em; text-align: left; border: none;\">\n",
              "                last_day_hours_diff6\n",
              "            </td>\n",
              "        </tr>\n",
              "    \n",
              "        <tr style=\"background-color: hsl(120, 100.00%, 99.39%); border: none;\">\n",
              "            <td style=\"padding: 0 1em 0 0.5em; text-align: right; border: none;\">\n",
              "                0.0084\n",
              "                \n",
              "                    &plusmn; 0.0016\n",
              "                \n",
              "            </td>\n",
              "            <td style=\"padding: 0 0.5em 0 0.5em; text-align: left; border: none;\">\n",
              "                last_day_onlinehours10\n",
              "            </td>\n",
              "        </tr>\n",
              "    \n",
              "        <tr style=\"background-color: hsl(120, 100.00%, 99.41%); border: none;\">\n",
              "            <td style=\"padding: 0 1em 0 0.5em; text-align: right; border: none;\">\n",
              "                0.0079\n",
              "                \n",
              "                    &plusmn; 0.0013\n",
              "                \n",
              "            </td>\n",
              "            <td style=\"padding: 0 0.5em 0 0.5em; text-align: left; border: none;\">\n",
              "                last_day_onlinehours2\n",
              "            </td>\n",
              "        </tr>\n",
              "    \n",
              "        <tr style=\"background-color: hsl(120, 100.00%, 99.49%); border: none;\">\n",
              "            <td style=\"padding: 0 1em 0 0.5em; text-align: right; border: none;\">\n",
              "                0.0065\n",
              "                \n",
              "                    &plusmn; 0.0024\n",
              "                \n",
              "            </td>\n",
              "            <td style=\"padding: 0 0.5em 0 0.5em; text-align: left; border: none;\">\n",
              "                last_day_onlinehours9\n",
              "            </td>\n",
              "        </tr>\n",
              "    \n",
              "        <tr style=\"background-color: hsl(120, 100.00%, 99.67%); border: none;\">\n",
              "            <td style=\"padding: 0 1em 0 0.5em; text-align: right; border: none;\">\n",
              "                0.0035\n",
              "                \n",
              "                    &plusmn; 0.0010\n",
              "                \n",
              "            </td>\n",
              "            <td style=\"padding: 0 0.5em 0 0.5em; text-align: left; border: none;\">\n",
              "                last_day_hours_diff13\n",
              "            </td>\n",
              "        </tr>\n",
              "    \n",
              "        <tr style=\"background-color: hsl(120, 100.00%, 99.76%); border: none;\">\n",
              "            <td style=\"padding: 0 1em 0 0.5em; text-align: right; border: none;\">\n",
              "                0.0022\n",
              "                \n",
              "                    &plusmn; 0.0008\n",
              "                \n",
              "            </td>\n",
              "            <td style=\"padding: 0 0.5em 0 0.5em; text-align: left; border: none;\">\n",
              "                onlinehours_roll_mean_3\n",
              "            </td>\n",
              "        </tr>\n",
              "    \n",
              "        <tr style=\"background-color: hsl(120, 100.00%, 99.78%); border: none;\">\n",
              "            <td style=\"padding: 0 1em 0 0.5em; text-align: right; border: none;\">\n",
              "                0.0020\n",
              "                \n",
              "                    &plusmn; 0.0007\n",
              "                \n",
              "            </td>\n",
              "            <td style=\"padding: 0 0.5em 0 0.5em; text-align: left; border: none;\">\n",
              "                last_day_hours_diff4\n",
              "            </td>\n",
              "        </tr>\n",
              "    \n",
              "        <tr style=\"background-color: hsl(120, 100.00%, 99.79%); border: none;\">\n",
              "            <td style=\"padding: 0 1em 0 0.5em; text-align: right; border: none;\">\n",
              "                0.0018\n",
              "                \n",
              "                    &plusmn; 0.0023\n",
              "                \n",
              "            </td>\n",
              "            <td style=\"padding: 0 0.5em 0 0.5em; text-align: left; border: none;\">\n",
              "                last_day_hours_diff7\n",
              "            </td>\n",
              "        </tr>\n",
              "    \n",
              "        <tr style=\"background-color: hsl(120, 100.00%, 99.81%); border: none;\">\n",
              "            <td style=\"padding: 0 1em 0 0.5em; text-align: right; border: none;\">\n",
              "                0.0016\n",
              "                \n",
              "                    &plusmn; 0.0005\n",
              "                \n",
              "            </td>\n",
              "            <td style=\"padding: 0 0.5em 0 0.5em; text-align: left; border: none;\">\n",
              "                last_day_onlinehours13\n",
              "            </td>\n",
              "        </tr>\n",
              "    \n",
              "    \n",
              "        \n",
              "            <tr style=\"background-color: hsl(120, 100.00%, 99.81%); border: none;\">\n",
              "                <td colspan=\"2\" style=\"padding: 0 0.5em 0 0.5em; text-align: center; border: none; white-space: nowrap;\">\n",
              "                    <i>&hellip; 61 more &hellip;</i>\n",
              "                </td>\n",
              "            </tr>\n",
              "        \n",
              "    \n",
              "    </tbody>\n",
              "</table>\n",
              "    \n",
              "\n",
              "    \n",
              "\n",
              "\n",
              "    \n",
              "\n",
              "    \n",
              "\n",
              "    \n",
              "\n",
              "    \n",
              "\n",
              "    \n",
              "\n",
              "    \n",
              "\n",
              "\n",
              "\n"
            ],
            "text/plain": [
              "<IPython.core.display.HTML object>"
            ]
          },
          "metadata": {
            "tags": []
          },
          "execution_count": 168
        }
      ]
    },
    {
      "cell_type": "code",
      "metadata": {
        "id": "x1GFNANsp2nR"
      },
      "source": [
        "## feature selection based on permutation importance\n",
        "feature_import = (eli5_feature_importance.sort_values(by = 'Importance', ascending = False)\n",
        "                  .reset_index(drop = True).Features.tolist()[0:40])"
      ],
      "execution_count": 171,
      "outputs": []
    },
    {
      "cell_type": "code",
      "metadata": {
        "colab": {
          "base_uri": "https://localhost:8080/"
        },
        "id": "WS-HL1NLqlHL",
        "outputId": "dd25e3a0-c525-46a2-b880-999c701e7bd8"
      },
      "source": [
        "train = df_copy[df_copy['day_of_month'] < 22]\n",
        "test = df_copy[df_copy['day_of_month'] >= 22]\n",
        "\n",
        "\n",
        "xtrain,xtest = train.drop(columns = ['date','online_hours']),test.drop(columns = ['date','online_hours'])\n",
        "xtrain = xtrain[feature_import]\n",
        "xtest = xtest[feature_import]\n",
        "ytrain,ytest = train['online_hours'].values, test['online_hours'].values\n",
        "    \n",
        "model = LGBMRegressor(n_estimators = 1000)\n",
        "model.fit(xtrain,ytrain)\n",
        "preds = model.predict(xtest)\n",
        "    \n",
        "score = mean_squared_error(test.online_hours.tolist(),preds,squared=False)\n",
        "\n",
        "    \n",
        "print('\\n' +'*'*20  +'Baseline Model RMSE Score with feature selection'+'*'*20 + '\\n')\n",
        "print('                 RMSE Score:    %.5f' % score)\n",
        "print('\\n' +'*'*81 + '\\n')"
      ],
      "execution_count": 173,
      "outputs": [
        {
          "output_type": "stream",
          "text": [
            "\n",
            "********************Baseline Model RMSE Score with feature selection********************\n",
            "\n",
            "                 RMSE Score:    1.88214\n",
            "\n",
            "*********************************************************************************\n",
            "\n"
          ],
          "name": "stdout"
        }
      ]
    },
    {
      "cell_type": "code",
      "metadata": {
        "colab": {
          "base_uri": "https://localhost:8080/",
          "height": 979
        },
        "id": "TaCAPdTkr28b",
        "outputId": "8158d9d3-2928-4306-ca10-963873a48624"
      },
      "source": [
        "error = pd.DataFrame({\n",
        "    \"date\":test.date,\n",
        "    \"id\":test.driver_id,\n",
        "    \"actual_online_hours\":test.online_hours.tolist(),\n",
        "    \"pred\":preds\n",
        "}).reset_index(drop = True)\n",
        "\n",
        "error[\"error\"] = np.abs(error.actual_online_hours-error.pred)\n",
        "\n",
        "error.sort_values(\"error\").head(30)"
      ],
      "execution_count": 175,
      "outputs": [
        {
          "output_type": "execute_result",
          "data": {
            "text/html": [
              "<div>\n",
              "<style scoped>\n",
              "    .dataframe tbody tr th:only-of-type {\n",
              "        vertical-align: middle;\n",
              "    }\n",
              "\n",
              "    .dataframe tbody tr th {\n",
              "        vertical-align: top;\n",
              "    }\n",
              "\n",
              "    .dataframe thead th {\n",
              "        text-align: right;\n",
              "    }\n",
              "</style>\n",
              "<table border=\"1\" class=\"dataframe\">\n",
              "  <thead>\n",
              "    <tr style=\"text-align: right;\">\n",
              "      <th></th>\n",
              "      <th>date</th>\n",
              "      <th>id</th>\n",
              "      <th>actual_online_hours</th>\n",
              "      <th>pred</th>\n",
              "      <th>error</th>\n",
              "    </tr>\n",
              "  </thead>\n",
              "  <tbody>\n",
              "    <tr>\n",
              "      <th>8843</th>\n",
              "      <td>2017-06-24</td>\n",
              "      <td>566319</td>\n",
              "      <td>0.0</td>\n",
              "      <td>-0.000039</td>\n",
              "      <td>0.000039</td>\n",
              "    </tr>\n",
              "    <tr>\n",
              "      <th>4832</th>\n",
              "      <td>2017-06-24</td>\n",
              "      <td>361795</td>\n",
              "      <td>0.0</td>\n",
              "      <td>0.000062</td>\n",
              "      <td>0.000062</td>\n",
              "    </tr>\n",
              "    <tr>\n",
              "      <th>3335</th>\n",
              "      <td>2017-06-25</td>\n",
              "      <td>287717</td>\n",
              "      <td>0.0</td>\n",
              "      <td>0.000203</td>\n",
              "      <td>0.000203</td>\n",
              "    </tr>\n",
              "    <tr>\n",
              "      <th>16806</th>\n",
              "      <td>2017-06-28</td>\n",
              "      <td>963766</td>\n",
              "      <td>7.0</td>\n",
              "      <td>7.000339</td>\n",
              "      <td>0.000339</td>\n",
              "    </tr>\n",
              "    <tr>\n",
              "      <th>3810</th>\n",
              "      <td>2017-06-24</td>\n",
              "      <td>313810</td>\n",
              "      <td>0.0</td>\n",
              "      <td>-0.000434</td>\n",
              "      <td>0.000434</td>\n",
              "    </tr>\n",
              "    <tr>\n",
              "      <th>9656</th>\n",
              "      <td>2017-06-25</td>\n",
              "      <td>607094</td>\n",
              "      <td>0.0</td>\n",
              "      <td>0.000453</td>\n",
              "      <td>0.000453</td>\n",
              "    </tr>\n",
              "    <tr>\n",
              "      <th>8948</th>\n",
              "      <td>2017-06-24</td>\n",
              "      <td>570715</td>\n",
              "      <td>0.0</td>\n",
              "      <td>-0.000490</td>\n",
              "      <td>0.000490</td>\n",
              "    </tr>\n",
              "    <tr>\n",
              "      <th>2180</th>\n",
              "      <td>2017-06-25</td>\n",
              "      <td>232934</td>\n",
              "      <td>0.0</td>\n",
              "      <td>-0.000521</td>\n",
              "      <td>0.000521</td>\n",
              "    </tr>\n",
              "    <tr>\n",
              "      <th>6590</th>\n",
              "      <td>2017-06-25</td>\n",
              "      <td>451132</td>\n",
              "      <td>0.0</td>\n",
              "      <td>-0.000597</td>\n",
              "      <td>0.000597</td>\n",
              "    </tr>\n",
              "    <tr>\n",
              "      <th>10118</th>\n",
              "      <td>2017-06-25</td>\n",
              "      <td>630713</td>\n",
              "      <td>0.0</td>\n",
              "      <td>-0.000665</td>\n",
              "      <td>0.000665</td>\n",
              "    </tr>\n",
              "    <tr>\n",
              "      <th>12812</th>\n",
              "      <td>2017-06-24</td>\n",
              "      <td>773817</td>\n",
              "      <td>0.0</td>\n",
              "      <td>-0.000760</td>\n",
              "      <td>0.000760</td>\n",
              "    </tr>\n",
              "    <tr>\n",
              "      <th>4119</th>\n",
              "      <td>2017-06-25</td>\n",
              "      <td>327050</td>\n",
              "      <td>0.0</td>\n",
              "      <td>-0.000791</td>\n",
              "      <td>0.000791</td>\n",
              "    </tr>\n",
              "    <tr>\n",
              "      <th>7412</th>\n",
              "      <td>2017-06-28</td>\n",
              "      <td>493432</td>\n",
              "      <td>6.0</td>\n",
              "      <td>5.999171</td>\n",
              "      <td>0.000829</td>\n",
              "    </tr>\n",
              "    <tr>\n",
              "      <th>10862</th>\n",
              "      <td>2017-06-27</td>\n",
              "      <td>668780</td>\n",
              "      <td>3.0</td>\n",
              "      <td>3.000864</td>\n",
              "      <td>0.000864</td>\n",
              "    </tr>\n",
              "    <tr>\n",
              "      <th>8473</th>\n",
              "      <td>2017-06-25</td>\n",
              "      <td>547254</td>\n",
              "      <td>0.0</td>\n",
              "      <td>0.000891</td>\n",
              "      <td>0.000891</td>\n",
              "    </tr>\n",
              "    <tr>\n",
              "      <th>10964</th>\n",
              "      <td>2017-06-24</td>\n",
              "      <td>675439</td>\n",
              "      <td>0.0</td>\n",
              "      <td>-0.000921</td>\n",
              "      <td>0.000921</td>\n",
              "    </tr>\n",
              "    <tr>\n",
              "      <th>15226</th>\n",
              "      <td>2017-06-23</td>\n",
              "      <td>889001</td>\n",
              "      <td>2.0</td>\n",
              "      <td>2.000933</td>\n",
              "      <td>0.000933</td>\n",
              "    </tr>\n",
              "    <tr>\n",
              "      <th>11191</th>\n",
              "      <td>2017-06-27</td>\n",
              "      <td>684092</td>\n",
              "      <td>6.0</td>\n",
              "      <td>5.999052</td>\n",
              "      <td>0.000948</td>\n",
              "    </tr>\n",
              "    <tr>\n",
              "      <th>11643</th>\n",
              "      <td>2017-06-24</td>\n",
              "      <td>711123</td>\n",
              "      <td>0.0</td>\n",
              "      <td>-0.001012</td>\n",
              "      <td>0.001012</td>\n",
              "    </tr>\n",
              "    <tr>\n",
              "      <th>16032</th>\n",
              "      <td>2017-06-24</td>\n",
              "      <td>927446</td>\n",
              "      <td>0.0</td>\n",
              "      <td>0.001029</td>\n",
              "      <td>0.001029</td>\n",
              "    </tr>\n",
              "    <tr>\n",
              "      <th>16821</th>\n",
              "      <td>2017-06-22</td>\n",
              "      <td>964765</td>\n",
              "      <td>6.0</td>\n",
              "      <td>6.001237</td>\n",
              "      <td>0.001237</td>\n",
              "    </tr>\n",
              "    <tr>\n",
              "      <th>4462</th>\n",
              "      <td>2017-06-25</td>\n",
              "      <td>344949</td>\n",
              "      <td>9.0</td>\n",
              "      <td>8.998714</td>\n",
              "      <td>0.001286</td>\n",
              "    </tr>\n",
              "    <tr>\n",
              "      <th>12063</th>\n",
              "      <td>2017-06-24</td>\n",
              "      <td>733929</td>\n",
              "      <td>0.0</td>\n",
              "      <td>-0.001400</td>\n",
              "      <td>0.001400</td>\n",
              "    </tr>\n",
              "    <tr>\n",
              "      <th>9544</th>\n",
              "      <td>2017-06-25</td>\n",
              "      <td>602390</td>\n",
              "      <td>0.0</td>\n",
              "      <td>-0.001423</td>\n",
              "      <td>0.001423</td>\n",
              "    </tr>\n",
              "    <tr>\n",
              "      <th>2753</th>\n",
              "      <td>2017-06-24</td>\n",
              "      <td>259563</td>\n",
              "      <td>0.0</td>\n",
              "      <td>-0.001451</td>\n",
              "      <td>0.001451</td>\n",
              "    </tr>\n",
              "    <tr>\n",
              "      <th>8598</th>\n",
              "      <td>2017-06-24</td>\n",
              "      <td>553416</td>\n",
              "      <td>0.0</td>\n",
              "      <td>0.001462</td>\n",
              "      <td>0.001462</td>\n",
              "    </tr>\n",
              "    <tr>\n",
              "      <th>11468</th>\n",
              "      <td>2017-06-24</td>\n",
              "      <td>703027</td>\n",
              "      <td>0.0</td>\n",
              "      <td>0.001466</td>\n",
              "      <td>0.001466</td>\n",
              "    </tr>\n",
              "    <tr>\n",
              "      <th>4111</th>\n",
              "      <td>2017-06-24</td>\n",
              "      <td>326448</td>\n",
              "      <td>0.0</td>\n",
              "      <td>0.001613</td>\n",
              "      <td>0.001613</td>\n",
              "    </tr>\n",
              "    <tr>\n",
              "      <th>1201</th>\n",
              "      <td>2017-06-26</td>\n",
              "      <td>181666</td>\n",
              "      <td>2.0</td>\n",
              "      <td>1.998330</td>\n",
              "      <td>0.001670</td>\n",
              "    </tr>\n",
              "    <tr>\n",
              "      <th>14482</th>\n",
              "      <td>2017-06-28</td>\n",
              "      <td>854135</td>\n",
              "      <td>3.0</td>\n",
              "      <td>3.001680</td>\n",
              "      <td>0.001680</td>\n",
              "    </tr>\n",
              "  </tbody>\n",
              "</table>\n",
              "</div>"
            ],
            "text/plain": [
              "            date      id  actual_online_hours      pred     error\n",
              "8843  2017-06-24  566319                  0.0 -0.000039  0.000039\n",
              "4832  2017-06-24  361795                  0.0  0.000062  0.000062\n",
              "3335  2017-06-25  287717                  0.0  0.000203  0.000203\n",
              "16806 2017-06-28  963766                  7.0  7.000339  0.000339\n",
              "3810  2017-06-24  313810                  0.0 -0.000434  0.000434\n",
              "9656  2017-06-25  607094                  0.0  0.000453  0.000453\n",
              "8948  2017-06-24  570715                  0.0 -0.000490  0.000490\n",
              "2180  2017-06-25  232934                  0.0 -0.000521  0.000521\n",
              "6590  2017-06-25  451132                  0.0 -0.000597  0.000597\n",
              "10118 2017-06-25  630713                  0.0 -0.000665  0.000665\n",
              "12812 2017-06-24  773817                  0.0 -0.000760  0.000760\n",
              "4119  2017-06-25  327050                  0.0 -0.000791  0.000791\n",
              "7412  2017-06-28  493432                  6.0  5.999171  0.000829\n",
              "10862 2017-06-27  668780                  3.0  3.000864  0.000864\n",
              "8473  2017-06-25  547254                  0.0  0.000891  0.000891\n",
              "10964 2017-06-24  675439                  0.0 -0.000921  0.000921\n",
              "15226 2017-06-23  889001                  2.0  2.000933  0.000933\n",
              "11191 2017-06-27  684092                  6.0  5.999052  0.000948\n",
              "11643 2017-06-24  711123                  0.0 -0.001012  0.001012\n",
              "16032 2017-06-24  927446                  0.0  0.001029  0.001029\n",
              "16821 2017-06-22  964765                  6.0  6.001237  0.001237\n",
              "4462  2017-06-25  344949                  9.0  8.998714  0.001286\n",
              "12063 2017-06-24  733929                  0.0 -0.001400  0.001400\n",
              "9544  2017-06-25  602390                  0.0 -0.001423  0.001423\n",
              "2753  2017-06-24  259563                  0.0 -0.001451  0.001451\n",
              "8598  2017-06-24  553416                  0.0  0.001462  0.001462\n",
              "11468 2017-06-24  703027                  0.0  0.001466  0.001466\n",
              "4111  2017-06-24  326448                  0.0  0.001613  0.001613\n",
              "1201  2017-06-26  181666                  2.0  1.998330  0.001670\n",
              "14482 2017-06-28  854135                  3.0  3.001680  0.001680"
            ]
          },
          "metadata": {
            "tags": []
          },
          "execution_count": 175
        }
      ]
    }
  ]
}